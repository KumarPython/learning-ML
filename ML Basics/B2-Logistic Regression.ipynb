{
  "nbformat": 4,
  "nbformat_minor": 0,
  "metadata": {
    "colab": {
      "name": "B2-Logistic Regression",
      "provenance": [],
      "toc_visible": true
    },
    "kernelspec": {
      "name": "python3",
      "display_name": "Python 3"
    }
  },
  "cells": [
    {
      "cell_type": "markdown",
      "metadata": {
        "id": "fAQBo7fkYxJQ"
      },
      "source": [
        "#**Logistic Regression**\r\n",
        "\r\n",
        "In statistics, the logistic model (or logit model) is used to model the probability of a certain class or event existing such as pass/fail, win/lose, alive/dead or healthy/sick. This can be extended to model several classes of events such as determining whether an image contains a cat, dog, lion, etc. Each object being detected in the image would be assigned a probability between 0 and 1, with a sum of one.\r\n",
        "\r\n",
        "Logistic regression is a statistical model that in its basic form uses a logistic function to model a binary dependent variable, although many more complex extensions exist. In regression analysis, logistic regression[1] (or logit regression) is estimating the parameters of a logistic model (a form of binary regression). Mathematically, a binary logistic model has a dependent variable with two possible values, such as pass/fail which is represented by an indicator variable, where the two values are labeled \"0\" and \"1\". "
      ]
    },
    {
      "cell_type": "markdown",
      "metadata": {
        "id": "Sht2_IqrvonD"
      },
      "source": [
        "##**1-Basic**"
      ]
    },
    {
      "cell_type": "code",
      "metadata": {
        "id": "wraUeTh7ZAqp"
      },
      "source": [
        "# First let’s load the necessary libraries.\r\n",
        "import numpy as np\r\n",
        "import pandas as pd\r\n",
        "import matplotlib.pyplot as plt\r\n",
        "import scipy.optimize as opt    # more on this later"
      ],
      "execution_count": null,
      "outputs": []
    },
    {
      "cell_type": "code",
      "metadata": {
        "colab": {
          "base_uri": "https://localhost:8080/"
        },
        "id": "h6RPjYmhdJfy",
        "outputId": "b994a269-c964-4643-ba24-6f1be6c1bcc3"
      },
      "source": [
        "# Next, we read the data (the necessary data is available under week-3 content)\r\n",
        "data = pd.read_csv('ex2data1.txt', header = None)\r\n",
        "X = data.iloc[:,:-1]\r\n",
        "y = data.iloc[:,2]\r\n",
        "data.head()\r\n"
      ],
      "execution_count": null,
      "outputs": [
        {
          "output_type": "execute_result",
          "data": {
            "text/html": [
              "<div>\n",
              "<style scoped>\n",
              "    .dataframe tbody tr th:only-of-type {\n",
              "        vertical-align: middle;\n",
              "    }\n",
              "\n",
              "    .dataframe tbody tr th {\n",
              "        vertical-align: top;\n",
              "    }\n",
              "\n",
              "    .dataframe thead th {\n",
              "        text-align: right;\n",
              "    }\n",
              "</style>\n",
              "<table border=\"1\" class=\"dataframe\">\n",
              "  <thead>\n",
              "    <tr style=\"text-align: right;\">\n",
              "      <th></th>\n",
              "      <th>0</th>\n",
              "      <th>1</th>\n",
              "      <th>2</th>\n",
              "    </tr>\n",
              "  </thead>\n",
              "  <tbody>\n",
              "    <tr>\n",
              "      <th>0</th>\n",
              "      <td>34.623660</td>\n",
              "      <td>78.024693</td>\n",
              "      <td>0</td>\n",
              "    </tr>\n",
              "    <tr>\n",
              "      <th>1</th>\n",
              "      <td>30.286711</td>\n",
              "      <td>43.894998</td>\n",
              "      <td>0</td>\n",
              "    </tr>\n",
              "    <tr>\n",
              "      <th>2</th>\n",
              "      <td>35.847409</td>\n",
              "      <td>72.902198</td>\n",
              "      <td>0</td>\n",
              "    </tr>\n",
              "    <tr>\n",
              "      <th>3</th>\n",
              "      <td>60.182599</td>\n",
              "      <td>86.308552</td>\n",
              "      <td>1</td>\n",
              "    </tr>\n",
              "    <tr>\n",
              "      <th>4</th>\n",
              "      <td>79.032736</td>\n",
              "      <td>75.344376</td>\n",
              "      <td>1</td>\n",
              "    </tr>\n",
              "  </tbody>\n",
              "</table>\n",
              "</div>"
            ],
            "text/plain": [
              "           0          1  2\n",
              "0  34.623660  78.024693  0\n",
              "1  30.286711  43.894998  0\n",
              "2  35.847409  72.902198  0\n",
              "3  60.182599  86.308552  1\n",
              "4  79.032736  75.344376  1"
            ]
          },
          "metadata": {
            "tags": []
          },
          "execution_count": 22
        }
      ]
    },
    {
      "cell_type": "code",
      "metadata": {
        "colab": {
          "base_uri": "https://localhost:8080/"
        },
        "id": "kXi3nXY_dydF",
        "outputId": "954f57cf-7f26-4f9d-ea9b-14263785d938"
      },
      "source": [
        "# Visualizing the data\r\n",
        "# Before starting to implement any learning algorithm, it is always good to visualize the data\r\n",
        "# Mask is used to plot data with missing values.\r\n",
        "mask = y == 1\r\n",
        "adm = plt.scatter(X[mask][0].values, X[mask][1].values)\r\n",
        "not_adm = plt.scatter(X[~mask][0].values, X[~mask][1].values)\r\n",
        "plt.xlabel('Exam 1 score')\r\n",
        "plt.ylabel('Exam 2 score')\r\n",
        "plt.legend((adm, not_adm), ('Admitted', 'Not admitted'))\r\n",
        "plt.show()"
      ],
      "execution_count": null,
      "outputs": [
        {
          "output_type": "display_data",
          "data": {
            "image/png": "[encoded data removed]",
            "text/plain": [
              "<Figure size 432x288 with 1 Axes>"
            ]
          },
          "metadata": {
            "tags": [],
            "needs_background": "light"
          }
        }
      ]
    },
    {
      "cell_type": "code",
      "metadata": {
        "colab": {
          "base_uri": "https://localhost:8080/"
        },
        "id": "OJ6BVOcdfnuL",
        "outputId": "98e1015a-63f2-4506-bbe0-89fef4276154"
      },
      "source": [
        "# Before you start with the actual cost function, recall that the logistic regression hypothesis makes use of sigmoid function. Let’s define our sigmoid function.\r\n",
        "# Sigmoid Function\r\n",
        "def sigmoid(x):\r\n",
        "  return 1/(1+np.exp(-x))\r\n",
        "\r\n",
        "sigmoid(1)"
      ],
      "execution_count": null,
      "outputs": [
        {
          "output_type": "execute_result",
          "data": {
            "text/plain": [
              "0.7310585786300049"
            ]
          },
          "metadata": {
            "tags": []
          },
          "execution_count": 24
        }
      ]
    },
    {
      "cell_type": "code",
      "metadata": {
        "id": "TK3mMHOGgEls"
      },
      "source": [
        "# Let’s implement the cost function for the Logistic Regression.\r\n",
        "# @ will return matrix product of two array \r\n",
        "def costFunction(theta, X, y):\r\n",
        "    J = (-1/m) * np.sum(np.multiply(y, np.log(sigmoid(X @ theta)))\r\n",
        "        + np.multiply((1-y), np.log(1 - sigmoid(X @ theta))))\r\n",
        "    return J"
      ],
      "execution_count": null,
      "outputs": []
    },
    {
      "cell_type": "code",
      "metadata": {
        "id": "wpMixhrEg_mv"
      },
      "source": [
        "# Gradient Function\r\n",
        "def gradient(theta, X, y):\r\n",
        "    return ((1/m) * X.T @ (sigmoid(X @ theta) - y))"
      ],
      "execution_count": null,
      "outputs": []
    },
    {
      "cell_type": "code",
      "metadata": {
        "colab": {
          "base_uri": "https://localhost:8080/"
        },
        "id": "3PqBi1wmhNLc",
        "outputId": "4020e6b2-1170-4e1a-e063-bee9cfab4057"
      },
      "source": [
        "# Let’s call these functions using the initial parameters.\r\n",
        "(m, n) = X.shape\r\n",
        "X = np.hstack((np.ones((m,1)), X))\r\n",
        "y = y[:, np.newaxis]\r\n",
        "theta = np.zeros((n+1,1)) # intializing theta with all zeros\r\n",
        "J = costFunction(theta, X, y)\r\n",
        "J"
      ],
      "execution_count": null,
      "outputs": [
        {
          "output_type": "stream",
          "text": [
            "/usr/local/lib/python3.6/dist-packages/ipykernel_launcher.py:4: FutureWarning: Support for multi-dimensional indexing (e.g. `obj[:, None]`) is deprecated and will be removed in a future version.  Convert to a numpy array before indexing instead.\n",
            "  after removing the cwd from sys.path.\n"
          ],
          "name": "stderr"
        },
        {
          "output_type": "execute_result",
          "data": {
            "text/plain": [
              "0.6931471805599453"
            ]
          },
          "metadata": {
            "tags": []
          },
          "execution_count": 27
        }
      ]
    },
    {
      "cell_type": "code",
      "metadata": {
        "colab": {
          "base_uri": "https://localhost:8080/"
        },
        "id": "G1qhhPm2thEf",
        "outputId": "8841ac41-2043-40fc-d2ec-24f09114598a"
      },
      "source": [
        "# Concretely, you are going to use fmin_tnc to find the best or optimal parameters theta for\r\n",
        "# the logistic regression cost function, given a fixed dataset (of X and y values). You will\r\n",
        "# pass to fmin_tnc the following inputs:\r\n",
        "# The initial values of the parameters we are trying to optimize.\r\n",
        "# A function that, when given the training set and a particular theta, computes the\r\n",
        "# logistic regression cost and gradient with respect to theta for the dataset (X, y).\r\n",
        "temp = opt.fmin_tnc(func = costFunction,\r\n",
        "                    x0 = theta.flatten(),fprime = gradient,\r\n",
        "                    args = (X, y.flatten()))\r\n",
        "\r\n",
        "# Note on flatten() function: Unfortunately scipy’s fmin_tnc doesn’t work well with column\r\n",
        "# or row vector. It expects the parameters to be in an array format. The flatten() function\r\n",
        "# reduces a column or row vector into array format.the output of above function is a tuple\r\n",
        "# whose first element #contains the optimized values of theta\r\n",
        "theta_optimized = temp[0]\r\n",
        "print(theta_optimized)\r\n"
      ],
      "execution_count": null,
      "outputs": [
        {
          "output_type": "stream",
          "text": [
            "[-25.16131855   0.20623159   0.20147149]\n"
          ],
          "name": "stdout"
        }
      ]
    },
    {
      "cell_type": "code",
      "metadata": {
        "colab": {
          "base_uri": "https://localhost:8080/"
        },
        "id": "MifjtorwuSh7",
        "outputId": "f5484c5c-8d19-4b60-fab0-08885adfdd5b"
      },
      "source": [
        "# Plotting Decision Boundary (Optional)\r\n",
        "# This final theta value will then be used to plot the decision boundary on the training data,\r\n",
        "# resulting in a figure similar to the one below.\r\n",
        "plot_x = [np.min(X[:,1]-2), np.max(X[:,2]+2)]\r\n",
        "plot_y = -1/theta_optimized[2]*(theta_optimized[0]\r\n",
        "          + np.dot(theta_optimized[1],plot_x))\r\n",
        "mask = y.flatten() == 1\r\n",
        "adm = plt.scatter(X[mask][:,1], X[mask][:,2])\r\n",
        "not_adm = plt.scatter(X[~mask][:,1], X[~mask][:,2])\r\n",
        "decision_boun = plt.plot(plot_x, plot_y)\r\n",
        "plt.xlabel('Exam 1 score')\r\n",
        "plt.ylabel('Exam 2 score')\r\n",
        "plt.legend((adm, not_adm), ('Admitted', 'Not admitted'))\r\n",
        "plt.show()\r\n"
      ],
      "execution_count": null,
      "outputs": [
        {
          "output_type": "display_data",
          "data": {
            "image/png": "[encoded data removed]",
            "text/plain": [
              "<Figure size 432x288 with 1 Axes>"
            ]
          },
          "metadata": {
            "tags": [],
            "needs_background": "light"
          }
        }
      ]
    },
    {
      "cell_type": "code",
      "metadata": {
        "colab": {
          "base_uri": "https://localhost:8080/"
        },
        "id": "hc6ZjNWpu7mL",
        "outputId": "a694fb97-58e5-4920-9ecc-fbf39c785508"
      },
      "source": [
        "# Now lets quantify our model accuracy for which we will write a function rightly called accuracy\r\n",
        "def accuracy(X, y, theta, cutoff):\r\n",
        "    pred = [sigmoid(np.dot(X, theta)) >= cutoff]\r\n",
        "    acc = np.mean(pred == y)\r\n",
        "    print(acc * 100)\r\n",
        "accuracy(X, y.flatten(), theta_optimized, 0.5)\r\n"
      ],
      "execution_count": null,
      "outputs": [
        {
          "output_type": "stream",
          "text": [
            "89.0\n"
          ],
          "name": "stdout"
        }
      ]
    },
    {
      "cell_type": "markdown",
      "metadata": {
        "id": "50Q-jF4bvC9s"
      },
      "source": [
        "##**2-Regularized**"
      ]
    },
    {
      "cell_type": "code",
      "metadata": {
        "id": "DgRL4qhsvlDF"
      },
      "source": [
        "import numpy as np\r\n",
        "import pandas as pd\r\n",
        "import matplotlib.pyplot as plt\r\n",
        "import scipy.optimize as opt    # more on this later"
      ],
      "execution_count": null,
      "outputs": []
    },
    {
      "cell_type": "code",
      "metadata": {
        "colab": {
          "base_uri": "https://localhost:8080/",
          "height": 197
        },
        "id": "iiW8GYzgwVzX",
        "outputId": "b3228d90-00e7-4ff7-fd5e-9bc246be0b71"
      },
      "source": [
        "data = pd.read_csv('ex2data2.txt', header = None)\r\n",
        "X = data.iloc[:,:-1]\r\n",
        "y = data.iloc[:,2]\r\n",
        "data.head()"
      ],
      "execution_count": null,
      "outputs": [
        {
          "output_type": "execute_result",
          "data": {
            "text/html": [
              "<div>\n",
              "<style scoped>\n",
              "    .dataframe tbody tr th:only-of-type {\n",
              "        vertical-align: middle;\n",
              "    }\n",
              "\n",
              "    .dataframe tbody tr th {\n",
              "        vertical-align: top;\n",
              "    }\n",
              "\n",
              "    .dataframe thead th {\n",
              "        text-align: right;\n",
              "    }\n",
              "</style>\n",
              "<table border=\"1\" class=\"dataframe\">\n",
              "  <thead>\n",
              "    <tr style=\"text-align: right;\">\n",
              "      <th></th>\n",
              "      <th>0</th>\n",
              "      <th>1</th>\n",
              "      <th>2</th>\n",
              "    </tr>\n",
              "  </thead>\n",
              "  <tbody>\n",
              "    <tr>\n",
              "      <th>0</th>\n",
              "      <td>0.051267</td>\n",
              "      <td>0.69956</td>\n",
              "      <td>1</td>\n",
              "    </tr>\n",
              "    <tr>\n",
              "      <th>1</th>\n",
              "      <td>-0.092742</td>\n",
              "      <td>0.68494</td>\n",
              "      <td>1</td>\n",
              "    </tr>\n",
              "    <tr>\n",
              "      <th>2</th>\n",
              "      <td>-0.213710</td>\n",
              "      <td>0.69225</td>\n",
              "      <td>1</td>\n",
              "    </tr>\n",
              "    <tr>\n",
              "      <th>3</th>\n",
              "      <td>-0.375000</td>\n",
              "      <td>0.50219</td>\n",
              "      <td>1</td>\n",
              "    </tr>\n",
              "    <tr>\n",
              "      <th>4</th>\n",
              "      <td>-0.513250</td>\n",
              "      <td>0.46564</td>\n",
              "      <td>1</td>\n",
              "    </tr>\n",
              "  </tbody>\n",
              "</table>\n",
              "</div>"
            ],
            "text/plain": [
              "          0        1  2\n",
              "0  0.051267  0.69956  1\n",
              "1 -0.092742  0.68494  1\n",
              "2 -0.213710  0.69225  1\n",
              "3 -0.375000  0.50219  1\n",
              "4 -0.513250  0.46564  1"
            ]
          },
          "metadata": {
            "tags": []
          },
          "execution_count": 32
        }
      ]
    },
    {
      "cell_type": "code",
      "metadata": {
        "colab": {
          "base_uri": "https://localhost:8080/",
          "height": 278
        },
        "id": "XblpOOa1whuK",
        "outputId": "463d4888-b8a6-40e6-cb43-ac22f002d702"
      },
      "source": [
        "# Before starting to implement any learning algorithm, it is always good to visualize the data if possible.\r\n",
        "mask = y == 1\r\n",
        "passed = plt.scatter(X[mask][0].values, X[mask][1].values)\r\n",
        "failed = plt.scatter(X[~mask][0].values, X[~mask][1].values)\r\n",
        "plt.xlabel('Microchip Test1')\r\n",
        "plt.ylabel('Microchip Test2')\r\n",
        "plt.legend((passed, failed), ('Passed', 'Failed'))\r\n",
        "plt.show()"
      ],
      "execution_count": null,
      "outputs": [
        {
          "output_type": "display_data",
          "data": {
            "image/png": "[encoded data removed]",
            "text/plain": [
              "<Figure size 432x288 with 1 Axes>"
            ]
          },
          "metadata": {
            "tags": [],
            "needs_background": "light"
          }
        }
      ]
    },
    {
      "cell_type": "code",
      "metadata": {
        "colab": {
          "base_uri": "https://localhost:8080/"
        },
        "id": "f14ud7VkwvRS",
        "outputId": "87be7c41-4eb7-42cc-d951-27911be035a9"
      },
      "source": [
        "# One way to fit the data better is to create more features from each data point. Hence we\r\n",
        "# will map the features into all polynomial terms of x1 and x2 up to the sixth power.\r\n",
        "# As a result of this mapping, our vector of two features (the scores on two QA tests) has\r\n",
        "# been transformed into a 28-dimensional vector.\r\n",
        "# While the feature mapping allows us to build a more expressive classifier, it is also more\r\n",
        "# susceptible to over fitting. In the next parts of the exercise, you will implement\r\n",
        "# regularized logistic regression to fit the data and also see for yourself how\r\n",
        "# regularization can help combat the over fitting problem.\r\n",
        "def mapFeature(X1, X2):\r\n",
        "    degree = 6\r\n",
        "    out = np.ones(X.shape[0])[:,np.newaxis]\r\n",
        "    for i in range(1, degree+1):\r\n",
        "        for j in range(i+1):\r\n",
        "            out = np.hstack((out, np.multiply(np.power(X1, i-j),                                     np.power(X2, j))[:,np.newaxis]))\r\n",
        "    return out\r\n",
        "X = mapFeature(X.iloc[:,0], X.iloc[:,1])"
      ],
      "execution_count": null,
      "outputs": [
        {
          "output_type": "stream",
          "text": [
            "/usr/local/lib/python3.6/dist-packages/ipykernel_launcher.py:14: FutureWarning: Support for multi-dimensional indexing (e.g. `obj[:, None]`) is deprecated and will be removed in a future version.  Convert to a numpy array before indexing instead.\n",
            "  \n"
          ],
          "name": "stderr"
        }
      ]
    },
    {
      "cell_type": "code",
      "metadata": {
        "id": "hpj-YEDtxpLy"
      },
      "source": [
        "# Sigmoid Function\r\n",
        "def sigmoid(x):\r\n",
        "  return 1/(1+np.exp(-x))"
      ],
      "execution_count": null,
      "outputs": []
    },
    {
      "cell_type": "code",
      "metadata": {
        "id": "bM8BkIiqx4Hu"
      },
      "source": [
        "# Cost Function As usual lets code our cost function and gradient functions.\r\n",
        "def lrCostFunction(theta_t, X_t, y_t, lambda_t):\r\n",
        "    m = len(y_t)\r\n",
        "    J = (-1/m) * (y_t.T @ np.log(sigmoid(X_t @ theta_t)) + (1 - y_t.T) @ np.log(1 - sigmoid(X_t @ theta_t)))\r\n",
        "    reg = (lambda_t/(2*m)) * (theta_t[1:].T @ theta_t[1:])\r\n",
        "    J = J + reg\r\n",
        "    return J"
      ],
      "execution_count": null,
      "outputs": []
    },
    {
      "cell_type": "code",
      "metadata": {
        "id": "NJ7WkdeNyEke"
      },
      "source": [
        "# Gradient Function\r\n",
        "def lrGradientDescent(theta, X, y, lambda_t):\r\n",
        "    m = len(y)\r\n",
        "    grad = np.zeros([m,1])\r\n",
        "    grad = (1/m) * X.T @ (sigmoid(X @ theta) - y)\r\n",
        "    grad[1:] = grad[1:] + (lambda_t / m) * theta[1:]\r\n",
        "    return grad"
      ],
      "execution_count": null,
      "outputs": []
    },
    {
      "cell_type": "code",
      "metadata": {
        "colab": {
          "base_uri": "https://localhost:8080/"
        },
        "id": "53s0MdlWyR7E",
        "outputId": "5b61111e-933d-4e01-9b50-93a81937b571"
      },
      "source": [
        "# Let’s call these functions using the initial parameters.\r\n",
        "(m, n) = X.shape\r\n",
        "y = y[:, np.newaxis]\r\n",
        "theta = np.zeros((n,1))\r\n",
        "lmbda = 1\r\n",
        "J = lrCostFunction(theta, X, y, lmbda)\r\n",
        "print(J)\r\n",
        "\r\n",
        "#Similar to previous post we will make use of fmin_tnc. fmin_tnc is an optimization solver that finds the minimum of an unconstrained function. For logistic regression, you want to optimize the cost function with the parameters theta.\r\n",
        "output = opt.fmin_tnc(func = lrCostFunction, x0 = theta.flatten(), fprime = lrGradientDescent, \\\r\n",
        "                         args = (X, y.flatten(), lmbda))\r\n",
        "theta = output[0]\r\n",
        "print(theta) # theta contains the optimized values"
      ],
      "execution_count": null,
      "outputs": [
        {
          "output_type": "stream",
          "text": [
            "[[0.69314718]]\n",
            "[ 1.27271026  0.62529964  1.18111686 -2.01987399 -0.91743189 -1.43166928\n",
            "  0.12393227 -0.36553118 -0.35725404 -0.17516291 -1.45817009 -0.05098418\n",
            " -0.61558555 -0.27469165 -1.19271298 -0.24217841 -0.20603299 -0.04466178\n",
            " -0.2777895  -0.29539513 -0.45645981 -1.04319154  0.02779373 -0.29244869\n",
            "  0.0155576  -0.32742405 -0.14389149 -0.92467488]\n"
          ],
          "name": "stdout"
        },
        {
          "output_type": "stream",
          "text": [
            "/usr/local/lib/python3.6/dist-packages/ipykernel_launcher.py:3: FutureWarning: Support for multi-dimensional indexing (e.g. `obj[:, None]`) is deprecated and will be removed in a future version.  Convert to a numpy array before indexing instead.\n",
            "  This is separate from the ipykernel package so we can avoid doing imports until\n"
          ],
          "name": "stderr"
        }
      ]
    },
    {
      "cell_type": "code",
      "metadata": {
        "colab": {
          "base_uri": "https://localhost:8080/"
        },
        "id": "jxupuKcuyYET",
        "outputId": "2b7e97f6-a544-42a6-bc17-45a407d07b1b"
      },
      "source": [
        "# Lets try to find the model accuracy by predicting the outcomes from our learned parameters\r\n",
        "# and then comparing with the original outcomes.\r\n",
        "pred = [sigmoid(np.dot(X, theta)) >= 0.5]\r\n",
        "np.mean(pred == y.flatten()) * 100"
      ],
      "execution_count": null,
      "outputs": [
        {
          "output_type": "execute_result",
          "data": {
            "text/plain": [
              "83.05084745762711"
            ]
          },
          "metadata": {
            "tags": []
          },
          "execution_count": 39
        }
      ]
    },
    {
      "cell_type": "code",
      "metadata": {
        "colab": {
          "base_uri": "https://localhost:8080/",
          "height": 283
        },
        "id": "-tx57w6kyqqi",
        "outputId": "3ed6bea8-4e2d-43b4-8207-edcd254e731a"
      },
      "source": [
        "# To help you visualize the model learned by this classifier, we will plot the (non-linear) decision boundary that separates the positive and negative examples. We plot the non-linear decision boundary by computing the classifier’s predictions on an evenly spaced grid and then drew a contour plot of where the predictions change from y = 0 to y = 1.\r\n",
        "u = np.linspace(-1, 1.5, 50)\r\n",
        "v = np.linspace(-1, 1.5, 50)\r\n",
        "z = np.zeros((len(u), len(v)))\r\n",
        "def mapFeatureForPlotting(X1, X2):\r\n",
        "    degree = 6\r\n",
        "    out = np.ones(1)\r\n",
        "    for i in range(1, degree+1):\r\n",
        "        for j in range(i+1):\r\n",
        "            out = np.hstack((out, np.multiply(np.power(X1, i-j), np.power(X2, j))))\r\n",
        "    return out\r\n",
        "for i in range(len(u)):\r\n",
        "    for j in range(len(v)):\r\n",
        "        z[i,j] = np.dot(mapFeatureForPlotting(u[i], v[j]), theta)\r\n",
        "mask = y.flatten() == 1\r\n",
        "X = data.iloc[:,:-1]\r\n",
        "passed = plt.scatter(X[mask][0], X[mask][1])\r\n",
        "failed = plt.scatter(X[~mask][0], X[~mask][1])\r\n",
        "plt.contour(u,v,z,0)\r\n",
        "plt.xlabel('Microchip Test1')\r\n",
        "plt.ylabel('Microchip Test2')\r\n",
        "plt.legend((passed, failed), ('Passed', 'Failed'))\r\n",
        "plt.show()\r\n"
      ],
      "execution_count": null,
      "outputs": [
        {
          "output_type": "display_data",
          "data": {
            "image/png": "[encoded data removed]",
            "text/plain": [
              "<Figure size 432x288 with 1 Axes>"
            ]
          },
          "metadata": {
            "tags": [],
            "needs_background": "light"
          }
        }
      ]
    },
    {
      "cell_type": "markdown",
      "metadata": {
        "id": "30SltsWIzgUe"
      },
      "source": [
        "##**3-One-Vs-All**"
      ]
    },
    {
      "cell_type": "code",
      "metadata": {
        "id": "AUNJonEYzsMb"
      },
      "source": [
        "# First, let’s load the necessary libraries.\r\n",
        "from scipy.io import loadmat\r\n",
        "import numpy as np\r\n",
        "import scipy.optimize as opt\r\n",
        "import matplotlib.pyplot as plt"
      ],
      "execution_count": null,
      "outputs": []
    },
    {
      "cell_type": "code",
      "metadata": {
        "colab": {
          "base_uri": "https://localhost:8080/",
          "height": 672
        },
        "id": "NWyK64re0V-k",
        "outputId": "2c9f1b45-c54c-4693-c315-13a72a85a294"
      },
      "source": [
        "# Reading the data\r\n",
        "data = loadmat('ex3data1.mat')\r\n",
        "X = data['X']\r\n",
        "y = data['y']\r\n",
        "X"
      ],
      "execution_count": null,
      "outputs": [
        {
          "output_type": "error",
          "ename": "error",
          "evalue": "ignored",
          "traceback": [
            "\u001b[0;31m---------------------------------------------------------------------------\u001b[0m",
            "\u001b[0;31merror\u001b[0m                                     Traceback (most recent call last)",
            "\u001b[0;32m<ipython-input-45-39ded2bcbb59>\u001b[0m in \u001b[0;36m<module>\u001b[0;34m()\u001b[0m\n\u001b[1;32m      1\u001b[0m \u001b[0;31m# Reading the data\u001b[0m\u001b[0;34m\u001b[0m\u001b[0;34m\u001b[0m\u001b[0;34m\u001b[0m\u001b[0m\n\u001b[0;32m----> 2\u001b[0;31m \u001b[0mdata\u001b[0m \u001b[0;34m=\u001b[0m \u001b[0mloadmat\u001b[0m\u001b[0;34m(\u001b[0m\u001b[0;34m'ex3data1.mat'\u001b[0m\u001b[0;34m)\u001b[0m\u001b[0;34m\u001b[0m\u001b[0;34m\u001b[0m\u001b[0m\n\u001b[0m\u001b[1;32m      3\u001b[0m \u001b[0mX\u001b[0m \u001b[0;34m=\u001b[0m \u001b[0mdata\u001b[0m\u001b[0;34m[\u001b[0m\u001b[0;34m'X'\u001b[0m\u001b[0;34m]\u001b[0m\u001b[0;34m\u001b[0m\u001b[0;34m\u001b[0m\u001b[0m\n\u001b[1;32m      4\u001b[0m \u001b[0my\u001b[0m \u001b[0;34m=\u001b[0m \u001b[0mdata\u001b[0m\u001b[0;34m[\u001b[0m\u001b[0;34m'y'\u001b[0m\u001b[0;34m]\u001b[0m\u001b[0;34m\u001b[0m\u001b[0;34m\u001b[0m\u001b[0m\n\u001b[1;32m      5\u001b[0m \u001b[0mX\u001b[0m\u001b[0;34m\u001b[0m\u001b[0;34m\u001b[0m\u001b[0m\n",
            "\u001b[0;32m/usr/local/lib/python3.6/dist-packages/scipy/io/matlab/mio.py\u001b[0m in \u001b[0;36mloadmat\u001b[0;34m(file_name, mdict, appendmat, **kwargs)\u001b[0m\n\u001b[1;32m    216\u001b[0m     \u001b[0;32mwith\u001b[0m \u001b[0m_open_file_context\u001b[0m\u001b[0;34m(\u001b[0m\u001b[0mfile_name\u001b[0m\u001b[0;34m,\u001b[0m \u001b[0mappendmat\u001b[0m\u001b[0;34m)\u001b[0m \u001b[0;32mas\u001b[0m \u001b[0mf\u001b[0m\u001b[0;34m:\u001b[0m\u001b[0;34m\u001b[0m\u001b[0;34m\u001b[0m\u001b[0m\n\u001b[1;32m    217\u001b[0m         \u001b[0mMR\u001b[0m\u001b[0;34m,\u001b[0m \u001b[0m_\u001b[0m \u001b[0;34m=\u001b[0m \u001b[0mmat_reader_factory\u001b[0m\u001b[0;34m(\u001b[0m\u001b[0mf\u001b[0m\u001b[0;34m,\u001b[0m \u001b[0;34m**\u001b[0m\u001b[0mkwargs\u001b[0m\u001b[0;34m)\u001b[0m\u001b[0;34m\u001b[0m\u001b[0;34m\u001b[0m\u001b[0m\n\u001b[0;32m--> 218\u001b[0;31m         \u001b[0mmatfile_dict\u001b[0m \u001b[0;34m=\u001b[0m \u001b[0mMR\u001b[0m\u001b[0;34m.\u001b[0m\u001b[0mget_variables\u001b[0m\u001b[0;34m(\u001b[0m\u001b[0mvariable_names\u001b[0m\u001b[0;34m)\u001b[0m\u001b[0;34m\u001b[0m\u001b[0;34m\u001b[0m\u001b[0m\n\u001b[0m\u001b[1;32m    219\u001b[0m \u001b[0;34m\u001b[0m\u001b[0m\n\u001b[1;32m    220\u001b[0m     \u001b[0;32mif\u001b[0m \u001b[0mmdict\u001b[0m \u001b[0;32mis\u001b[0m \u001b[0;32mnot\u001b[0m \u001b[0;32mNone\u001b[0m\u001b[0;34m:\u001b[0m\u001b[0;34m\u001b[0m\u001b[0;34m\u001b[0m\u001b[0m\n",
            "\u001b[0;32m/usr/local/lib/python3.6/dist-packages/scipy/io/matlab/mio5.py\u001b[0m in \u001b[0;36mget_variables\u001b[0;34m(self, variable_names)\u001b[0m\n\u001b[1;32m    290\u001b[0m                 \u001b[0;32mcontinue\u001b[0m\u001b[0;34m\u001b[0m\u001b[0;34m\u001b[0m\u001b[0m\n\u001b[1;32m    291\u001b[0m             \u001b[0;32mtry\u001b[0m\u001b[0;34m:\u001b[0m\u001b[0;34m\u001b[0m\u001b[0;34m\u001b[0m\u001b[0m\n\u001b[0;32m--> 292\u001b[0;31m                 \u001b[0mres\u001b[0m \u001b[0;34m=\u001b[0m \u001b[0mself\u001b[0m\u001b[0;34m.\u001b[0m\u001b[0mread_var_array\u001b[0m\u001b[0;34m(\u001b[0m\u001b[0mhdr\u001b[0m\u001b[0;34m,\u001b[0m \u001b[0mprocess\u001b[0m\u001b[0;34m)\u001b[0m\u001b[0;34m\u001b[0m\u001b[0;34m\u001b[0m\u001b[0m\n\u001b[0m\u001b[1;32m    293\u001b[0m             \u001b[0;32mexcept\u001b[0m \u001b[0mMatReadError\u001b[0m \u001b[0;32mas\u001b[0m \u001b[0merr\u001b[0m\u001b[0;34m:\u001b[0m\u001b[0;34m\u001b[0m\u001b[0;34m\u001b[0m\u001b[0m\n\u001b[1;32m    294\u001b[0m                 warnings.warn(\n",
            "\u001b[0;32m/usr/local/lib/python3.6/dist-packages/scipy/io/matlab/mio5.py\u001b[0m in \u001b[0;36mread_var_array\u001b[0;34m(self, header, process)\u001b[0m\n\u001b[1;32m    250\u001b[0m            \u001b[0;31m`\u001b[0m\u001b[0mprocess\u001b[0m\u001b[0;31m`\u001b[0m\u001b[0;34m.\u001b[0m\u001b[0;34m\u001b[0m\u001b[0;34m\u001b[0m\u001b[0m\n\u001b[1;32m    251\u001b[0m         '''\n\u001b[0;32m--> 252\u001b[0;31m         \u001b[0;32mreturn\u001b[0m \u001b[0mself\u001b[0m\u001b[0;34m.\u001b[0m\u001b[0m_matrix_reader\u001b[0m\u001b[0;34m.\u001b[0m\u001b[0marray_from_header\u001b[0m\u001b[0;34m(\u001b[0m\u001b[0mheader\u001b[0m\u001b[0;34m,\u001b[0m \u001b[0mprocess\u001b[0m\u001b[0;34m)\u001b[0m\u001b[0;34m\u001b[0m\u001b[0;34m\u001b[0m\u001b[0m\n\u001b[0m\u001b[1;32m    253\u001b[0m \u001b[0;34m\u001b[0m\u001b[0m\n\u001b[1;32m    254\u001b[0m     \u001b[0;32mdef\u001b[0m \u001b[0mget_variables\u001b[0m\u001b[0;34m(\u001b[0m\u001b[0mself\u001b[0m\u001b[0;34m,\u001b[0m \u001b[0mvariable_names\u001b[0m\u001b[0;34m=\u001b[0m\u001b[0;32mNone\u001b[0m\u001b[0;34m)\u001b[0m\u001b[0;34m:\u001b[0m\u001b[0;34m\u001b[0m\u001b[0;34m\u001b[0m\u001b[0m\n",
            "\u001b[0;32mmio5_utils.pyx\u001b[0m in \u001b[0;36mscipy.io.matlab.mio5_utils.VarReader5.array_from_header\u001b[0;34m()\u001b[0m\n",
            "\u001b[0;32mmio5_utils.pyx\u001b[0m in \u001b[0;36mscipy.io.matlab.mio5_utils.VarReader5.array_from_header\u001b[0;34m()\u001b[0m\n",
            "\u001b[0;32mmio5_utils.pyx\u001b[0m in \u001b[0;36mscipy.io.matlab.mio5_utils.VarReader5.read_real_complex\u001b[0;34m()\u001b[0m\n",
            "\u001b[0;32mmio5_utils.pyx\u001b[0m in \u001b[0;36mscipy.io.matlab.mio5_utils.VarReader5.read_numeric\u001b[0;34m()\u001b[0m\n",
            "\u001b[0;32mmio5_utils.pyx\u001b[0m in \u001b[0;36mscipy.io.matlab.mio5_utils.VarReader5.read_element\u001b[0;34m()\u001b[0m\n",
            "\u001b[0;32mstreams.pyx\u001b[0m in \u001b[0;36mscipy.io.matlab.streams.ZlibInputStream.read_string\u001b[0;34m()\u001b[0m\n",
            "\u001b[0;32mstreams.pyx\u001b[0m in \u001b[0;36mscipy.io.matlab.streams.ZlibInputStream.read_into\u001b[0;34m()\u001b[0m\n",
            "\u001b[0;32mstreams.pyx\u001b[0m in \u001b[0;36mscipy.io.matlab.streams.ZlibInputStream._fill_buffer\u001b[0;34m()\u001b[0m\n",
            "\u001b[0;31merror\u001b[0m: Error -3 while decompressing data: invalid block type"
          ]
        }
      ]
    },
    {
      "cell_type": "code",
      "metadata": {
        "colab": {
          "base_uri": "https://localhost:8080/",
          "height": 1000
        },
        "id": "CagLjgBO03jv",
        "outputId": "e71d3347-4c6d-4f13-a74e-0f7023129dea"
      },
      "source": [
        "# Visualizing the data\r\n",
        "_, axarr = plt.subplots(10,10,figsize=(10,10))\r\n",
        "for i in range(10):\r\n",
        "    for j in range(10):\r\n",
        "       axarr[i,j].imshow(X[np.random.randint(X.shape[0])].\\\r\n",
        "reshape((20,20), order = 'F'))\r\n",
        "       axarr[i,j].axis('off')"
      ],
      "execution_count": null,
      "outputs": [
        {
          "output_type": "error",
          "ename": "KeyError",
          "evalue": "ignored",
          "traceback": [
            "\u001b[0;31m---------------------------------------------------------------------------\u001b[0m",
            "\u001b[0;31mKeyError\u001b[0m                                  Traceback (most recent call last)",
            "\u001b[0;32m/usr/local/lib/python3.6/dist-packages/pandas/core/indexes/base.py\u001b[0m in \u001b[0;36mget_loc\u001b[0;34m(self, key, method, tolerance)\u001b[0m\n\u001b[1;32m   2897\u001b[0m             \u001b[0;32mtry\u001b[0m\u001b[0;34m:\u001b[0m\u001b[0;34m\u001b[0m\u001b[0;34m\u001b[0m\u001b[0m\n\u001b[0;32m-> 2898\u001b[0;31m                 \u001b[0;32mreturn\u001b[0m \u001b[0mself\u001b[0m\u001b[0;34m.\u001b[0m\u001b[0m_engine\u001b[0m\u001b[0;34m.\u001b[0m\u001b[0mget_loc\u001b[0m\u001b[0;34m(\u001b[0m\u001b[0mcasted_key\u001b[0m\u001b[0;34m)\u001b[0m\u001b[0;34m\u001b[0m\u001b[0;34m\u001b[0m\u001b[0m\n\u001b[0m\u001b[1;32m   2899\u001b[0m             \u001b[0;32mexcept\u001b[0m \u001b[0mKeyError\u001b[0m \u001b[0;32mas\u001b[0m \u001b[0merr\u001b[0m\u001b[0;34m:\u001b[0m\u001b[0;34m\u001b[0m\u001b[0;34m\u001b[0m\u001b[0m\n",
            "\u001b[0;32mpandas/_libs/index.pyx\u001b[0m in \u001b[0;36mpandas._libs.index.IndexEngine.get_loc\u001b[0;34m()\u001b[0m\n",
            "\u001b[0;32mpandas/_libs/index.pyx\u001b[0m in \u001b[0;36mpandas._libs.index.IndexEngine.get_loc\u001b[0;34m()\u001b[0m\n",
            "\u001b[0;32mpandas/_libs/hashtable_class_helper.pxi\u001b[0m in \u001b[0;36mpandas._libs.hashtable.Int64HashTable.get_item\u001b[0;34m()\u001b[0m\n",
            "\u001b[0;32mpandas/_libs/hashtable_class_helper.pxi\u001b[0m in \u001b[0;36mpandas._libs.hashtable.Int64HashTable.get_item\u001b[0;34m()\u001b[0m\n",
            "\u001b[0;31mKeyError\u001b[0m: 25",
            "\nThe above exception was the direct cause of the following exception:\n",
            "\u001b[0;31mKeyError\u001b[0m                                  Traceback (most recent call last)",
            "\u001b[0;32m<ipython-input-46-1f4b8ce9870d>\u001b[0m in \u001b[0;36m<module>\u001b[0;34m()\u001b[0m\n\u001b[1;32m      3\u001b[0m \u001b[0;32mfor\u001b[0m \u001b[0mi\u001b[0m \u001b[0;32min\u001b[0m \u001b[0mrange\u001b[0m\u001b[0;34m(\u001b[0m\u001b[0;36m10\u001b[0m\u001b[0;34m)\u001b[0m\u001b[0;34m:\u001b[0m\u001b[0;34m\u001b[0m\u001b[0;34m\u001b[0m\u001b[0m\n\u001b[1;32m      4\u001b[0m     \u001b[0;32mfor\u001b[0m \u001b[0mj\u001b[0m \u001b[0;32min\u001b[0m \u001b[0mrange\u001b[0m\u001b[0;34m(\u001b[0m\u001b[0;36m10\u001b[0m\u001b[0;34m)\u001b[0m\u001b[0;34m:\u001b[0m\u001b[0;34m\u001b[0m\u001b[0;34m\u001b[0m\u001b[0m\n\u001b[0;32m----> 5\u001b[0;31m        \u001b[0maxarr\u001b[0m\u001b[0;34m[\u001b[0m\u001b[0mi\u001b[0m\u001b[0;34m,\u001b[0m\u001b[0mj\u001b[0m\u001b[0;34m]\u001b[0m\u001b[0;34m.\u001b[0m\u001b[0mimshow\u001b[0m\u001b[0;34m(\u001b[0m\u001b[0mX\u001b[0m\u001b[0;34m[\u001b[0m\u001b[0mnp\u001b[0m\u001b[0;34m.\u001b[0m\u001b[0mrandom\u001b[0m\u001b[0;34m.\u001b[0m\u001b[0mrandint\u001b[0m\u001b[0;34m(\u001b[0m\u001b[0mX\u001b[0m\u001b[0;34m.\u001b[0m\u001b[0mshape\u001b[0m\u001b[0;34m[\u001b[0m\u001b[0;36m0\u001b[0m\u001b[0;34m]\u001b[0m\u001b[0;34m)\u001b[0m\u001b[0;34m]\u001b[0m\u001b[0;34m.\u001b[0m\u001b[0mreshape\u001b[0m\u001b[0;34m(\u001b[0m\u001b[0;34m(\u001b[0m\u001b[0;36m20\u001b[0m\u001b[0;34m,\u001b[0m\u001b[0;36m20\u001b[0m\u001b[0;34m)\u001b[0m\u001b[0;34m,\u001b[0m \u001b[0morder\u001b[0m \u001b[0;34m=\u001b[0m \u001b[0;34m'F'\u001b[0m\u001b[0;34m)\u001b[0m\u001b[0;34m)\u001b[0m\u001b[0;34m\u001b[0m\u001b[0;34m\u001b[0m\u001b[0m\n\u001b[0m\u001b[1;32m      6\u001b[0m        \u001b[0maxarr\u001b[0m\u001b[0;34m[\u001b[0m\u001b[0mi\u001b[0m\u001b[0;34m,\u001b[0m\u001b[0mj\u001b[0m\u001b[0;34m]\u001b[0m\u001b[0;34m.\u001b[0m\u001b[0maxis\u001b[0m\u001b[0;34m(\u001b[0m\u001b[0;34m'off'\u001b[0m\u001b[0;34m)\u001b[0m\u001b[0;34m\u001b[0m\u001b[0;34m\u001b[0m\u001b[0m\n",
            "\u001b[0;32m/usr/local/lib/python3.6/dist-packages/pandas/core/frame.py\u001b[0m in \u001b[0;36m__getitem__\u001b[0;34m(self, key)\u001b[0m\n\u001b[1;32m   2904\u001b[0m             \u001b[0;32mif\u001b[0m \u001b[0mself\u001b[0m\u001b[0;34m.\u001b[0m\u001b[0mcolumns\u001b[0m\u001b[0;34m.\u001b[0m\u001b[0mnlevels\u001b[0m \u001b[0;34m>\u001b[0m \u001b[0;36m1\u001b[0m\u001b[0;34m:\u001b[0m\u001b[0;34m\u001b[0m\u001b[0;34m\u001b[0m\u001b[0m\n\u001b[1;32m   2905\u001b[0m                 \u001b[0;32mreturn\u001b[0m \u001b[0mself\u001b[0m\u001b[0;34m.\u001b[0m\u001b[0m_getitem_multilevel\u001b[0m\u001b[0;34m(\u001b[0m\u001b[0mkey\u001b[0m\u001b[0;34m)\u001b[0m\u001b[0;34m\u001b[0m\u001b[0;34m\u001b[0m\u001b[0m\n\u001b[0;32m-> 2906\u001b[0;31m             \u001b[0mindexer\u001b[0m \u001b[0;34m=\u001b[0m \u001b[0mself\u001b[0m\u001b[0;34m.\u001b[0m\u001b[0mcolumns\u001b[0m\u001b[0;34m.\u001b[0m\u001b[0mget_loc\u001b[0m\u001b[0;34m(\u001b[0m\u001b[0mkey\u001b[0m\u001b[0;34m)\u001b[0m\u001b[0;34m\u001b[0m\u001b[0;34m\u001b[0m\u001b[0m\n\u001b[0m\u001b[1;32m   2907\u001b[0m             \u001b[0;32mif\u001b[0m \u001b[0mis_integer\u001b[0m\u001b[0;34m(\u001b[0m\u001b[0mindexer\u001b[0m\u001b[0;34m)\u001b[0m\u001b[0;34m:\u001b[0m\u001b[0;34m\u001b[0m\u001b[0;34m\u001b[0m\u001b[0m\n\u001b[1;32m   2908\u001b[0m                 \u001b[0mindexer\u001b[0m \u001b[0;34m=\u001b[0m \u001b[0;34m[\u001b[0m\u001b[0mindexer\u001b[0m\u001b[0;34m]\u001b[0m\u001b[0;34m\u001b[0m\u001b[0;34m\u001b[0m\u001b[0m\n",
            "\u001b[0;32m/usr/local/lib/python3.6/dist-packages/pandas/core/indexes/base.py\u001b[0m in \u001b[0;36mget_loc\u001b[0;34m(self, key, method, tolerance)\u001b[0m\n\u001b[1;32m   2898\u001b[0m                 \u001b[0;32mreturn\u001b[0m \u001b[0mself\u001b[0m\u001b[0;34m.\u001b[0m\u001b[0m_engine\u001b[0m\u001b[0;34m.\u001b[0m\u001b[0mget_loc\u001b[0m\u001b[0;34m(\u001b[0m\u001b[0mcasted_key\u001b[0m\u001b[0;34m)\u001b[0m\u001b[0;34m\u001b[0m\u001b[0;34m\u001b[0m\u001b[0m\n\u001b[1;32m   2899\u001b[0m             \u001b[0;32mexcept\u001b[0m \u001b[0mKeyError\u001b[0m \u001b[0;32mas\u001b[0m \u001b[0merr\u001b[0m\u001b[0;34m:\u001b[0m\u001b[0;34m\u001b[0m\u001b[0;34m\u001b[0m\u001b[0m\n\u001b[0;32m-> 2900\u001b[0;31m                 \u001b[0;32mraise\u001b[0m \u001b[0mKeyError\u001b[0m\u001b[0;34m(\u001b[0m\u001b[0mkey\u001b[0m\u001b[0;34m)\u001b[0m \u001b[0;32mfrom\u001b[0m \u001b[0merr\u001b[0m\u001b[0;34m\u001b[0m\u001b[0;34m\u001b[0m\u001b[0m\n\u001b[0m\u001b[1;32m   2901\u001b[0m \u001b[0;34m\u001b[0m\u001b[0m\n\u001b[1;32m   2902\u001b[0m         \u001b[0;32mif\u001b[0m \u001b[0mtolerance\u001b[0m \u001b[0;32mis\u001b[0m \u001b[0;32mnot\u001b[0m \u001b[0;32mNone\u001b[0m\u001b[0;34m:\u001b[0m\u001b[0;34m\u001b[0m\u001b[0;34m\u001b[0m\u001b[0m\n",
            "\u001b[0;31mKeyError\u001b[0m: 25"
          ]
        },
        {
          "output_type": "display_data",
          "data": {
            "image/png": "[encoded data removed]",
            "text/plain": [
              "<Figure size 720x720 with 100 Axes>"
            ]
          },
          "metadata": {
            "tags": [],
            "needs_background": "light"
          }
        }
      ]
    },
    {
      "cell_type": "code",
      "metadata": {
        "id": "uVUlFSBe1Vu8"
      },
      "source": [
        "# Adding the intercept term\r\n",
        "m = len(y)\r\n",
        "ones = np.ones((m,1))\r\n",
        "X = np.hstack((ones, X)) #add the intercept\r\n",
        "(m,n) = X.shape"
      ],
      "execution_count": null,
      "outputs": []
    },
    {
      "cell_type": "code",
      "metadata": {
        "colab": {
          "base_uri": "https://localhost:8080/"
        },
        "id": "Aqly98It1o9c",
        "outputId": "0d82dc90-0b44-42e9-aa99-bc7168ee2d0c"
      },
      "source": [
        "import numpy as np\r\n",
        "import time\r\n",
        "a = np.random.rand(1000000)\r\n",
        "b = np.random.rand(1000000)\r\n",
        "c = 0\r\n",
        "tic = time.time()\r\n",
        "for i in range(1000000):\r\n",
        "  c += a[i] * b[i]\r\n",
        "toc = time.time()\r\n",
        "print(\"value of c {0:.5f}\".format(c))\r\n",
        "print(\"time taken using for-loop \" + str(1000*(toc-tic)) + \" ms\")\r\n",
        "c = 0\r\n",
        "tic = time.time()\r\n",
        "c = np.dot(a,b) # no for-loops in vectorized version\r\n",
        "toc = time.time()\r\n",
        "print(\"value of c {0:.5f}\".format(c))\r\n",
        "print(\"time taken using vectorized operation \" + str(1000*(toc-tic)) + \" ms\")\r\n"
      ],
      "execution_count": null,
      "outputs": [
        {
          "output_type": "stream",
          "text": [
            "value of c 250031.60875\n",
            "time taken using for-loop 567.8856372833252 ms\n",
            "value of c 250031.60875\n",
            "time taken using vectorized operation 1.9855499267578125 ms\n"
          ],
          "name": "stdout"
        }
      ]
    },
    {
      "cell_type": "code",
      "metadata": {
        "id": "plV-LBqX1-gi"
      },
      "source": [
        "# Since we know that Logistic Regression uses sigmoid function, we will implement this first:\r\n",
        "def sigmoid(z):\r\n",
        "    return 1/(1+np.exp(-z))"
      ],
      "execution_count": null,
      "outputs": []
    },
    {
      "cell_type": "code",
      "metadata": {
        "id": "G5Aq9vKs2JNz"
      },
      "source": [
        "# Vectorized Cost Function:\r\n",
        "def costFunctionReg(theta, X, y, lmbda):\r\n",
        "    m = len(y)\r\n",
        "    temp1 = np.multiply(y, np.log(sigmoid(np.dot(X, theta))))\r\n",
        "    temp2 = np.multiply(1-y, np.log(1-sigmoid(np.dot(X, theta))))\r\n",
        "    return np.sum(temp1 + temp2) / (-m) + np.sum(theta[1:]**2) * lmbda / (2*m)"
      ],
      "execution_count": null,
      "outputs": []
    },
    {
      "cell_type": "code",
      "metadata": {
        "id": "UONolP6T2TDz"
      },
      "source": [
        "# Vectorized gradient:\r\n",
        "def gradRegularization(theta, X, y, lmbda):\r\n",
        "    m = len(y)\r\n",
        "    temp = sigmoid(np.dot(X, theta)) - y\r\n",
        "    temp = np.dot(temp.T, X).T / m + theta * lmbda / m\r\n",
        "    temp[0] = temp[0] - theta[0] * lmbda / m\r\n",
        "    return temp"
      ],
      "execution_count": null,
      "outputs": []
    },
    {
      "cell_type": "code",
      "metadata": {
        "id": "XjN8L80N2g5L"
      },
      "source": [
        "# Optimizing Parameters\r\n",
        "# Here we will make use of an advanced numerical optimization library function called\r\n",
        "# fmin_cg from thescipy library to find the optimal values for our parameters.\r\n",
        "lmbda = 0.1\r\n",
        "k = 10\r\n",
        "theta = np.zeros((k,n)) #inital parameters\r\n",
        "for i in range(k):\r\n",
        "    digit_class = i if i else 10\r\n",
        "    theta[i] = opt.fmin_cg(f = costFunctionReg, x0 = theta[i],  fprime = gradRegularization,\r\n",
        "                           args = (X, (y == digit_class).flatten(), lmbda), maxiter = 50)\r\n",
        "\r\n",
        "pred = np.argmax(X @ theta.T, axis = 1)\r\n",
        "pred = [e if e else 10 for e in pred]\r\n",
        "np.mean(pred == y.flatten()) * 100"
      ],
      "execution_count": null,
      "outputs": []
    }
  ]
}