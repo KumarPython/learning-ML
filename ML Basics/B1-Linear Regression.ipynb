{
  "nbformat": 4,
  "nbformat_minor": 0,
  "metadata": {
    "colab": {
      "name": "B1 - Linear Regression",
      "provenance": [],
      "collapsed_sections": [
        "mepEYeV8uXDc"
      ],
      "toc_visible": true
    },
    "kernelspec": {
      "name": "python3",
      "display_name": "Python 3"
    }
  },
  "cells": [
    {
      "cell_type": "markdown",
      "metadata": {
        "id": "oWk2gb_UuZwv"
      },
      "source": [
        "#**Linear Regression**\r\n",
        "\r\n",
        "In statistics, linear regression is a linear approach to modelling the relationship between a scalar response and one or more explanatory variables (also known as dependent and independent variables). The case of one explanatory variable is called simple linear regression; for more than one, the process is called multiple linear regression.[1] This term is distinct from multivariate linear regression, where multiple correlated dependent variables are predicted, rather than a single scalar variable.[2]\r\n",
        "\r\n",
        "In linear regression, the relationships are modeled using linear predictor functions whose unknown model parameters are estimated from the data. Such models are called linear models.[3] Most commonly, the conditional mean of the response given the values of the explanatory variables (or predictors) is assumed to be an affine function of those values; less commonly, the conditional median or some other quantile is used. Like all forms of regression analysis, linear regression focuses on the conditional probability distribution of the response given the values of the predictors, rather than on the joint probability distribution of all of these variables, which is the domain of multivariate analysis.\r\n",
        "\r\n",
        "Linear regression was the first type of regression analysis to be studied rigorously, and to be used extensively in practical applications.[4] This is because models which depend linearly on their unknown parameters are easier to fit than models which are non-linearly related to their parameters and because the statistical properties of the resulting estimators are easier to determine."
      ]
    },
    {
      "cell_type": "markdown",
      "metadata": {
        "id": "mepEYeV8uXDc"
      },
      "source": [
        "## **1-ONE Variable**"
      ]
    },
    {
      "cell_type": "code",
      "metadata": {
        "id": "BFEBG95BvQ7w"
      },
      "source": [
        "import numpy as np\r\n",
        "import pandas as pd\r\n",
        "import matplotlib.pyplot as plt\r\n"
      ],
      "execution_count": null,
      "outputs": []
    },
    {
      "cell_type": "code",
      "metadata": {
        "id": "AUE5tXB-yrfB"
      },
      "source": [
        "data = pd.read_csv('ex1data1.txt', header = None) #read from dataset\r\n",
        "x = data.iloc[:,0] # read first column\r\n",
        "y = data.iloc[:,1] # read second column\r\n",
        "m = len(y) # number of training example"
      ],
      "execution_count": null,
      "outputs": []
    },
    {
      "cell_type": "code",
      "metadata": {
        "colab": {
          "base_uri": "https://localhost:8080/",
          "height": 280
        },
        "id": "Wn1vdNNa0c-F",
        "outputId": "8c5aeaf7-381d-4427-d9c4-5a8ee5115fe3"
      },
      "source": [
        "data.head() # view first few rows of the data\r\n",
        "plt.scatter(x, y)\r\n",
        "plt.xlabel('Population of City in 10,000s')\r\n",
        "plt.ylabel('Profit in $10,000s')\r\n",
        "plt.show()\r\n"
      ],
      "execution_count": null,
      "outputs": [
        {
          "output_type": "display_data",
          "data": {
            "image/png": "[encoded data removed]",
            "text/plain": [
              "<Figure size 432x288 with 1 Axes>"
            ]
          },
          "metadata": {
            "tags": [],
            "needs_background": "light"
          }
        }
      ]
    },
    {
      "cell_type": "code",
      "metadata": {
        "colab": {
          "base_uri": "https://localhost:8080/"
        },
        "id": "raf4Yu9x09cw",
        "outputId": "457a0e56-4cfb-4b45-94ee-fef12d37c918"
      },
      "source": [
        "X = [x,np.ones(m,dtype=int)]\r\n",
        "theta = np.zeros([2,1])\r\n",
        "X"
      ],
      "execution_count": null,
      "outputs": [
        {
          "output_type": "execute_result",
          "data": {
            "text/plain": [
              "[0      6.1101\n",
              " 1      5.5277\n",
              " 2      8.5186\n",
              " 3      7.0032\n",
              " 4      5.8598\n",
              "        ...   \n",
              " 92     5.8707\n",
              " 93     5.3054\n",
              " 94     8.2934\n",
              " 95    13.3940\n",
              " 96     5.4369\n",
              " Name: 0, Length: 97, dtype: float64,\n",
              " array([1, 1, 1, 1, 1, 1, 1, 1, 1, 1, 1, 1, 1, 1, 1, 1, 1, 1, 1, 1, 1, 1,\n",
              "        1, 1, 1, 1, 1, 1, 1, 1, 1, 1, 1, 1, 1, 1, 1, 1, 1, 1, 1, 1, 1, 1,\n",
              "        1, 1, 1, 1, 1, 1, 1, 1, 1, 1, 1, 1, 1, 1, 1, 1, 1, 1, 1, 1, 1, 1,\n",
              "        1, 1, 1, 1, 1, 1, 1, 1, 1, 1, 1, 1, 1, 1, 1, 1, 1, 1, 1, 1, 1, 1,\n",
              "        1, 1, 1, 1, 1, 1, 1, 1, 1])]"
            ]
          },
          "metadata": {
            "tags": []
          },
          "execution_count": 57
        }
      ]
    },
    {
      "cell_type": "code",
      "metadata": {
        "colab": {
          "base_uri": "https://localhost:8080/"
        },
        "id": "uUGrCqrm29C0",
        "outputId": "5e73f0b6-e72f-4165-bc43-02340adfb7bb"
      },
      "source": [
        "def computeCost(X, y, theta):\r\n",
        "  for i in range(m):\r\n",
        "    error = np.dot(np.transpose(X),theta)-y[i]\r\n",
        "    J=sum(error[i]**2) / (2*m)\r\n",
        "  return J\r\n",
        "J = computeCost(X, y, theta)\r\n",
        "J"
      ],
      "execution_count": null,
      "outputs": [
        {
          "output_type": "execute_result",
          "data": {
            "text/plain": [
              "0.001962632487113402"
            ]
          },
          "metadata": {
            "tags": []
          },
          "execution_count": 97
        }
      ]
    },
    {
      "cell_type": "code",
      "metadata": {
        "colab": {
          "base_uri": "https://localhost:8080/"
        },
        "id": "ddnDFcYbCjQ_",
        "outputId": "7dce7a21-cec1-40ea-d406-5947d63821ee"
      },
      "source": [
        "iterations = 50\r\n",
        "alpha = 0.01\r\n",
        "\r\n",
        "# Finding the optimal parameters using Gradient Descent\r\n",
        "def gradientDescent(X, y, theta, alpha, iterations):\r\n",
        "    for j in range(iterations):\r\n",
        "      for i in range(m):\r\n",
        "        error = np.dot(np.transpose(X),theta)-y[i]\r\n",
        "        J=sum(error[i]**2) / (2*m)\r\n",
        "  \r\n",
        "      theta=theta-alpha*(2/m) * np.dot(x,error)\r\n",
        "      print(f\"Iteration: {j} slope: {theta[0]} and intercept: {theta[1]} and the cost is: {J}\"\")                                                                                        }\")\r\n",
        "\r\n",
        "    return theta\r\n",
        "\r\n",
        "A=gradientDescent(X, y, theta, alpha, iterations)\r\n",
        "A"
      ],
      "execution_count": null,
      "outputs": [
        {
          "output_type": "stream",
          "text": [
            "Iteration: 0 slope: [0.10070009] and intercept: [0.10070009] and the cost is: 0.001962632487113402)                                                                                        }\n",
            "Iteration: 1 slope: [0.02101864] and intercept: [0.02101864] and the cost is: 5.0005130687740104e-06)                                                                                        }\n",
            "Iteration: 2 slope: [0.08406857] and intercept: [0.08406857] and the cost is: 0.001196329819792385)                                                                                        }\n",
            "Iteration: 3 slope: [0.03417875] and intercept: [0.03417875] and the cost is: 2.9701958806613463e-05)                                                                                        }\n",
            "Iteration: 4 slope: [0.07365531] and intercept: [0.07365531] and the cost is: 0.0008126010023322157)                                                                                        }\n",
            "Iteration: 5 slope: [0.0424185] and intercept: [0.0424185] and the cost is: 0.00010531604197740997)                                                                                        }\n",
            "Iteration: 6 slope: [0.0671354] and intercept: [0.0671354] and the cost is: 0.000610001980270081)                                                                                        }\n",
            "Iteration: 7 slope: [0.04757754] and intercept: [0.04757754] and the cost is: 0.00017623855301047262)                                                                                        }\n",
            "Iteration: 8 slope: [0.06305318] and intercept: [0.06305318] and the cost is: 0.0004979149058222705)                                                                                        }\n",
            "Iteration: 9 slope: [0.05080769] and intercept: [0.05080769] and the cost is: 0.00022988786059442476)                                                                                        }\n",
            "Iteration: 10 slope: [0.06049724] and intercept: [0.06049724] and the cost is: 0.0004335229688336933)                                                                                        }\n",
            "Iteration: 11 slope: [0.05283015] and intercept: [0.05283015] and the cost is: 0.0002671022298023237)                                                                                        }\n",
            "Iteration: 12 slope: [0.05889693] and intercept: [0.05889693] and the cost is: 0.00039547500001167545)                                                                                        }\n",
            "Iteration: 13 slope: [0.05409644] and intercept: [0.05409644] and the cost is: 0.000291823298977113)                                                                                        }\n",
            "Iteration: 14 slope: [0.05789494] and intercept: [0.05789494] and the cost is: 0.0003725419976329247)                                                                                        }\n",
            "Iteration: 15 slope: [0.05488928] and intercept: [0.05488928] and the cost is: 0.00030785844331125727)                                                                                        }\n",
            "Iteration: 16 slope: [0.05726759] and intercept: [0.05726759] and the cost is: 0.0003585319578632002)                                                                                        }\n",
            "Iteration: 17 slope: [0.05538569] and intercept: [0.05538569] and the cost is: 0.00031811661471294435)                                                                                        }\n",
            "Iteration: 18 slope: [0.05687479] and intercept: [0.05687479] and the cost is: 0.0003498967382155692)                                                                                        }\n",
            "Iteration: 19 slope: [0.0556965] and intercept: [0.0556965] and the cost is: 0.0003246250020661506)                                                                                        }\n",
            "Iteration: 20 slope: [0.05662885] and intercept: [0.05662885] and the cost is: 0.00034454367487838207)                                                                                        }\n",
            "Iteration: 21 slope: [0.05589111] and intercept: [0.05589111] and the cost is: 0.0003287335572632351)                                                                                        }\n",
            "Iteration: 22 slope: [0.05647486] and intercept: [0.05647486] and the cost is: 0.0003412130432577633)                                                                                        }\n",
            "Iteration: 23 slope: [0.05601295] and intercept: [0.05601295] and the cost is: 0.00033131914145786664)                                                                                        }\n",
            "Iteration: 24 slope: [0.05637845] and intercept: [0.05637845] and the cost is: 0.0003391359168164106)                                                                                        }\n",
            "Iteration: 25 slope: [0.05608924] and intercept: [0.05608924] and the cost is: 0.0003329431728733527)                                                                                        }\n",
            "Iteration: 26 slope: [0.05631809] and intercept: [0.05631809] and the cost is: 0.00033783862320984113)                                                                                        }\n",
            "Iteration: 27 slope: [0.05613701] and intercept: [0.05613701] and the cost is: 0.0003339620260404717)                                                                                        }\n",
            "Iteration: 28 slope: [0.05628029] and intercept: [0.05628029] and the cost is: 0.00033702763261232233)                                                                                        }\n",
            "Iteration: 29 slope: [0.05616691] and intercept: [0.05616691] and the cost is: 0.0003346007385903661)                                                                                        }\n",
            "Iteration: 30 slope: [0.05625663] and intercept: [0.05625663] and the cost is: 0.00033652035462982115)                                                                                        }\n",
            "Iteration: 31 slope: [0.05618564] and intercept: [0.05618564] and the cost is: 0.00033500095730356434)                                                                                        }\n",
            "Iteration: 32 slope: [0.05624181] and intercept: [0.05624181] and the cost is: 0.0003362029343111706)                                                                                        }\n",
            "Iteration: 33 slope: [0.05619736] and intercept: [0.05619736] and the cost is: 0.0003352516623767316)                                                                                        }\n",
            "Iteration: 34 slope: [0.05623253] and intercept: [0.05623253] and the cost is: 0.00033600426864780305)                                                                                        }\n",
            "Iteration: 35 slope: [0.0562047] and intercept: [0.0562047] and the cost is: 0.0003354086805468331)                                                                                        }\n",
            "Iteration: 36 slope: [0.05622672] and intercept: [0.05622672] and the cost is: 0.0003358799108069986)                                                                                        }\n",
            "Iteration: 37 slope: [0.0562093] and intercept: [0.0562093] and the cost is: 0.0003355070108337703)                                                                                        }\n",
            "Iteration: 38 slope: [0.05622309] and intercept: [0.05622309] and the cost is: 0.00033580206010309265)                                                                                        }\n",
            "Iteration: 39 slope: [0.05621218] and intercept: [0.05621218] and the cost is: 0.00033556858432611756)                                                                                        }\n",
            "Iteration: 40 slope: [0.05622081] and intercept: [0.05622081] and the cost is: 0.00033575332113310817)                                                                                        }\n",
            "Iteration: 41 slope: [0.05621398] and intercept: [0.05621398] and the cost is: 0.00033560713934462154)                                                                                        }\n",
            "Iteration: 42 slope: [0.05621938] and intercept: [0.05621938] and the cost is: 0.00033572280668985114)                                                                                        }\n",
            "Iteration: 43 slope: [0.05621511] and intercept: [0.05621511] and the cost is: 0.00033563128038213323)                                                                                        }\n",
            "Iteration: 44 slope: [0.05621849] and intercept: [0.05621849] and the cost is: 0.0003357037018177179)                                                                                        }\n",
            "Iteration: 45 slope: [0.05621581] and intercept: [0.05621581] and the cost is: 0.00033564639591151277)                                                                                        }\n",
            "Iteration: 46 slope: [0.05621793] and intercept: [0.05621793] and the cost is: 0.00033569174023027394)                                                                                        }\n",
            "Iteration: 47 slope: [0.05621626] and intercept: [0.05621626] and the cost is: 0.00033565586015803965)                                                                                        }\n",
            "Iteration: 48 slope: [0.05621758] and intercept: [0.05621758] and the cost is: 0.00033568425099869095)                                                                                        }\n",
            "Iteration: 49 slope: [0.05621653] and intercept: [0.05621653] and the cost is: 0.000335661785941182)                                                                                        }\n"
          ],
          "name": "stdout"
        },
        {
          "output_type": "execute_result",
          "data": {
            "text/plain": [
              "array([[0.05621653],\n",
              "       [0.05621653]])"
            ]
          },
          "metadata": {
            "tags": []
          },
          "execution_count": 59
        }
      ]
    },
    {
      "cell_type": "code",
      "metadata": {
        "colab": {
          "base_uri": "https://localhost:8080/",
          "height": 314
        },
        "id": "isTHqYmAS8kP",
        "outputId": "70dbdb04-e7e2-400f-8cf7-49c3d3fda080"
      },
      "source": [
        "# ALTERNATE WAY\r\n",
        "import numpy as np \r\n",
        "import matplotlib.pyplot as plt \r\n",
        "\r\n",
        "def estimate_coef(x, y): \r\n",
        "\t# number of observations/points \r\n",
        "\tn = np.size(x) \r\n",
        "\r\n",
        "\t# mean of x and y vector \r\n",
        "\tm_x, m_y = np.mean(x), np.mean(y) \r\n",
        "\r\n",
        "\t# calculating cross-deviation and deviation about x \r\n",
        "\tSS_xy = np.sum(y*x) - n*m_y*m_x \r\n",
        "\tSS_xx = np.sum(x*x) - n*m_x*m_x \r\n",
        "\r\n",
        "\t# calculating regression coefficients \r\n",
        "\tb_1 = SS_xy / SS_xx \r\n",
        "\tb_0 = m_y - b_1*m_x \r\n",
        "\r\n",
        "\treturn(b_0, b_1) \r\n",
        "\r\n",
        "def plot_regression_line(x, y, b): \r\n",
        "\t# plotting the actual points as scatter plot \r\n",
        "\tplt.scatter(x, y, color = \"m\", \r\n",
        "\t\t\tmarker = \"o\", s = 30) \r\n",
        "\r\n",
        "\t# predicted response vector \r\n",
        "\ty_pred = b[0] + b[1]*x \r\n",
        "\r\n",
        "\t# plotting the regression line \r\n",
        "\tplt.plot(x, y_pred, color = \"g\") \r\n",
        "\r\n",
        "\t# putting labels \r\n",
        "\tplt.xlabel('x') \r\n",
        "\tplt.ylabel('y') \r\n",
        "\r\n",
        "\t# function to show plot \r\n",
        "\tplt.show() \r\n",
        "\r\n",
        "def main(): \r\n",
        "\t# observations \r\n",
        "\tx = np.array([0, 1, 2, 3, 4, 5, 6, 7, 8, 9]) \r\n",
        "\ty = np.array([1, 3, 2, 5, 7, 8, 8, 9, 10, 12]) \r\n",
        "\r\n",
        "\t# estimating coefficients \r\n",
        "\tb = estimate_coef(x, y) \r\n",
        "\tprint(\"Estimated coefficients:\\nb_0 = {} & b_1 = {}\".format(b[0], b[1])) \r\n",
        "\r\n",
        "\t# plotting regression line \r\n",
        "\tplot_regression_line(x, y, b) \r\n",
        "\r\n",
        "if __name__ == \"__main__\": \r\n",
        "\tmain() \r\n"
      ],
      "execution_count": null,
      "outputs": [
        {
          "output_type": "stream",
          "text": [
            "Estimated coefficients:\n",
            "b_0 = 1.2363636363636363 & b_1 = 1.1696969696969697\n"
          ],
          "name": "stdout"
        },
        {
          "output_type": "display_data",
          "data": {
            "image/png": "[encoded data removed]",
            "text/plain": [
              "<Figure size 432x288 with 1 Axes>"
            ]
          },
          "metadata": {
            "tags": [],
            "needs_background": "light"
          }
        }
      ]
    },
    {
      "cell_type": "markdown",
      "metadata": {
        "id": "r0iESdA3vS53"
      },
      "source": [
        "## **2-MULTIPLE Variable**"
      ]
    },
    {
      "cell_type": "code",
      "metadata": {
        "id": "Dl1uNirNlbvF"
      },
      "source": [
        "import numpy as np\r\n",
        "import pandas as pd"
      ],
      "execution_count": null,
      "outputs": []
    },
    {
      "cell_type": "code",
      "metadata": {
        "colab": {
          "base_uri": "https://localhost:8080/",
          "height": 197
        },
        "id": "UIzBeU65mysk",
        "outputId": "9cad2bd0-c77c-4822-ae18-853905980d2a"
      },
      "source": [
        "data = pd.read_csv('Salary_Data.csv',header=None)\r\n",
        "data.head()"
      ],
      "execution_count": null,
      "outputs": [
        {
          "output_type": "execute_result",
          "data": {
            "text/html": [
              "<div>\n",
              "<style scoped>\n",
              "    .dataframe tbody tr th:only-of-type {\n",
              "        vertical-align: middle;\n",
              "    }\n",
              "\n",
              "    .dataframe tbody tr th {\n",
              "        vertical-align: top;\n",
              "    }\n",
              "\n",
              "    .dataframe thead th {\n",
              "        text-align: right;\n",
              "    }\n",
              "</style>\n",
              "<table border=\"1\" class=\"dataframe\">\n",
              "  <thead>\n",
              "    <tr style=\"text-align: right;\">\n",
              "      <th></th>\n",
              "      <th>0</th>\n",
              "      <th>1</th>\n",
              "    </tr>\n",
              "  </thead>\n",
              "  <tbody>\n",
              "    <tr>\n",
              "      <th>0</th>\n",
              "      <td>YearsExperience</td>\n",
              "      <td>Salary</td>\n",
              "    </tr>\n",
              "    <tr>\n",
              "      <th>1</th>\n",
              "      <td>1.1</td>\n",
              "      <td>39343.00</td>\n",
              "    </tr>\n",
              "    <tr>\n",
              "      <th>2</th>\n",
              "      <td>1.3</td>\n",
              "      <td>46205.00</td>\n",
              "    </tr>\n",
              "    <tr>\n",
              "      <th>3</th>\n",
              "      <td>1.5</td>\n",
              "      <td>37731.00</td>\n",
              "    </tr>\n",
              "    <tr>\n",
              "      <th>4</th>\n",
              "      <td>2.0</td>\n",
              "      <td>43525.00</td>\n",
              "    </tr>\n",
              "  </tbody>\n",
              "</table>\n",
              "</div>"
            ],
            "text/plain": [
              "                 0         1\n",
              "0  YearsExperience    Salary\n",
              "1              1.1  39343.00\n",
              "2              1.3  46205.00\n",
              "3              1.5  37731.00\n",
              "4              2.0  43525.00"
            ]
          },
          "metadata": {
            "tags": []
          },
          "execution_count": 6
        }
      ]
    },
    {
      "cell_type": "code",
      "metadata": {
        "colab": {
          "base_uri": "https://localhost:8080/",
          "height": 370
        },
        "id": "dI_lrlogncXz",
        "outputId": "031b65d0-ce3f-4564-de55-d66e5bba69b7"
      },
      "source": [
        "x = data.iloc[:,0:2] # read first two columns into X\r\n",
        "y = data.iloc[:,2] # read the third column into y\r\n",
        "m = len(y) # no. of training samples\r\n",
        "m"
      ],
      "execution_count": null,
      "outputs": [
        {
          "output_type": "error",
          "ename": "IndexError",
          "evalue": "ignored",
          "traceback": [
            "\u001b[0;31m---------------------------------------------------------------------------\u001b[0m",
            "\u001b[0;31mIndexError\u001b[0m                                Traceback (most recent call last)",
            "\u001b[0;32m<ipython-input-7-429083c2d17c>\u001b[0m in \u001b[0;36m<module>\u001b[0;34m()\u001b[0m\n\u001b[1;32m      1\u001b[0m \u001b[0mx\u001b[0m \u001b[0;34m=\u001b[0m \u001b[0mdata\u001b[0m\u001b[0;34m.\u001b[0m\u001b[0miloc\u001b[0m\u001b[0;34m[\u001b[0m\u001b[0;34m:\u001b[0m\u001b[0;34m,\u001b[0m\u001b[0;36m0\u001b[0m\u001b[0;34m:\u001b[0m\u001b[0;36m2\u001b[0m\u001b[0;34m]\u001b[0m \u001b[0;31m# read first two columns into X\u001b[0m\u001b[0;34m\u001b[0m\u001b[0;34m\u001b[0m\u001b[0m\n\u001b[0;32m----> 2\u001b[0;31m \u001b[0my\u001b[0m \u001b[0;34m=\u001b[0m \u001b[0mdata\u001b[0m\u001b[0;34m.\u001b[0m\u001b[0miloc\u001b[0m\u001b[0;34m[\u001b[0m\u001b[0;34m:\u001b[0m\u001b[0;34m,\u001b[0m\u001b[0;36m2\u001b[0m\u001b[0;34m]\u001b[0m \u001b[0;31m# read the third column into y\u001b[0m\u001b[0;34m\u001b[0m\u001b[0;34m\u001b[0m\u001b[0m\n\u001b[0m\u001b[1;32m      3\u001b[0m \u001b[0mm\u001b[0m \u001b[0;34m=\u001b[0m \u001b[0mlen\u001b[0m\u001b[0;34m(\u001b[0m\u001b[0my\u001b[0m\u001b[0;34m)\u001b[0m \u001b[0;31m# no. of training samples\u001b[0m\u001b[0;34m\u001b[0m\u001b[0;34m\u001b[0m\u001b[0m\n\u001b[1;32m      4\u001b[0m \u001b[0mm\u001b[0m\u001b[0;34m\u001b[0m\u001b[0;34m\u001b[0m\u001b[0m\n",
            "\u001b[0;32m/usr/local/lib/python3.6/dist-packages/pandas/core/indexing.py\u001b[0m in \u001b[0;36m__getitem__\u001b[0;34m(self, key)\u001b[0m\n\u001b[1;32m    871\u001b[0m                     \u001b[0;31m# AttributeError for IntervalTree get_value\u001b[0m\u001b[0;34m\u001b[0m\u001b[0;34m\u001b[0m\u001b[0;34m\u001b[0m\u001b[0m\n\u001b[1;32m    872\u001b[0m                     \u001b[0;32mpass\u001b[0m\u001b[0;34m\u001b[0m\u001b[0;34m\u001b[0m\u001b[0m\n\u001b[0;32m--> 873\u001b[0;31m             \u001b[0;32mreturn\u001b[0m \u001b[0mself\u001b[0m\u001b[0;34m.\u001b[0m\u001b[0m_getitem_tuple\u001b[0m\u001b[0;34m(\u001b[0m\u001b[0mkey\u001b[0m\u001b[0;34m)\u001b[0m\u001b[0;34m\u001b[0m\u001b[0;34m\u001b[0m\u001b[0m\n\u001b[0m\u001b[1;32m    874\u001b[0m         \u001b[0;32melse\u001b[0m\u001b[0;34m:\u001b[0m\u001b[0;34m\u001b[0m\u001b[0;34m\u001b[0m\u001b[0m\n\u001b[1;32m    875\u001b[0m             \u001b[0;31m# we by definition only have the 0th axis\u001b[0m\u001b[0;34m\u001b[0m\u001b[0;34m\u001b[0m\u001b[0;34m\u001b[0m\u001b[0m\n",
            "\u001b[0;32m/usr/local/lib/python3.6/dist-packages/pandas/core/indexing.py\u001b[0m in \u001b[0;36m_getitem_tuple\u001b[0;34m(self, tup)\u001b[0m\n\u001b[1;32m   1441\u001b[0m     \u001b[0;32mdef\u001b[0m \u001b[0m_getitem_tuple\u001b[0m\u001b[0;34m(\u001b[0m\u001b[0mself\u001b[0m\u001b[0;34m,\u001b[0m \u001b[0mtup\u001b[0m\u001b[0;34m:\u001b[0m \u001b[0mTuple\u001b[0m\u001b[0;34m)\u001b[0m\u001b[0;34m:\u001b[0m\u001b[0;34m\u001b[0m\u001b[0;34m\u001b[0m\u001b[0m\n\u001b[1;32m   1442\u001b[0m \u001b[0;34m\u001b[0m\u001b[0m\n\u001b[0;32m-> 1443\u001b[0;31m         \u001b[0mself\u001b[0m\u001b[0;34m.\u001b[0m\u001b[0m_has_valid_tuple\u001b[0m\u001b[0;34m(\u001b[0m\u001b[0mtup\u001b[0m\u001b[0;34m)\u001b[0m\u001b[0;34m\u001b[0m\u001b[0;34m\u001b[0m\u001b[0m\n\u001b[0m\u001b[1;32m   1444\u001b[0m         \u001b[0;32mtry\u001b[0m\u001b[0;34m:\u001b[0m\u001b[0;34m\u001b[0m\u001b[0;34m\u001b[0m\u001b[0m\n\u001b[1;32m   1445\u001b[0m             \u001b[0;32mreturn\u001b[0m \u001b[0mself\u001b[0m\u001b[0;34m.\u001b[0m\u001b[0m_getitem_lowerdim\u001b[0m\u001b[0;34m(\u001b[0m\u001b[0mtup\u001b[0m\u001b[0;34m)\u001b[0m\u001b[0;34m\u001b[0m\u001b[0;34m\u001b[0m\u001b[0m\n",
            "\u001b[0;32m/usr/local/lib/python3.6/dist-packages/pandas/core/indexing.py\u001b[0m in \u001b[0;36m_has_valid_tuple\u001b[0;34m(self, key)\u001b[0m\n\u001b[1;32m    700\u001b[0m                 \u001b[0;32mraise\u001b[0m \u001b[0mIndexingError\u001b[0m\u001b[0;34m(\u001b[0m\u001b[0;34m\"Too many indexers\"\u001b[0m\u001b[0;34m)\u001b[0m\u001b[0;34m\u001b[0m\u001b[0;34m\u001b[0m\u001b[0m\n\u001b[1;32m    701\u001b[0m             \u001b[0;32mtry\u001b[0m\u001b[0;34m:\u001b[0m\u001b[0;34m\u001b[0m\u001b[0;34m\u001b[0m\u001b[0m\n\u001b[0;32m--> 702\u001b[0;31m                 \u001b[0mself\u001b[0m\u001b[0;34m.\u001b[0m\u001b[0m_validate_key\u001b[0m\u001b[0;34m(\u001b[0m\u001b[0mk\u001b[0m\u001b[0;34m,\u001b[0m \u001b[0mi\u001b[0m\u001b[0;34m)\u001b[0m\u001b[0;34m\u001b[0m\u001b[0;34m\u001b[0m\u001b[0m\n\u001b[0m\u001b[1;32m    703\u001b[0m             \u001b[0;32mexcept\u001b[0m \u001b[0mValueError\u001b[0m \u001b[0;32mas\u001b[0m \u001b[0merr\u001b[0m\u001b[0;34m:\u001b[0m\u001b[0;34m\u001b[0m\u001b[0;34m\u001b[0m\u001b[0m\n\u001b[1;32m    704\u001b[0m                 raise ValueError(\n",
            "\u001b[0;32m/usr/local/lib/python3.6/dist-packages/pandas/core/indexing.py\u001b[0m in \u001b[0;36m_validate_key\u001b[0;34m(self, key, axis)\u001b[0m\n\u001b[1;32m   1350\u001b[0m             \u001b[0;32mreturn\u001b[0m\u001b[0;34m\u001b[0m\u001b[0;34m\u001b[0m\u001b[0m\n\u001b[1;32m   1351\u001b[0m         \u001b[0;32melif\u001b[0m \u001b[0mis_integer\u001b[0m\u001b[0;34m(\u001b[0m\u001b[0mkey\u001b[0m\u001b[0;34m)\u001b[0m\u001b[0;34m:\u001b[0m\u001b[0;34m\u001b[0m\u001b[0;34m\u001b[0m\u001b[0m\n\u001b[0;32m-> 1352\u001b[0;31m             \u001b[0mself\u001b[0m\u001b[0;34m.\u001b[0m\u001b[0m_validate_integer\u001b[0m\u001b[0;34m(\u001b[0m\u001b[0mkey\u001b[0m\u001b[0;34m,\u001b[0m \u001b[0maxis\u001b[0m\u001b[0;34m)\u001b[0m\u001b[0;34m\u001b[0m\u001b[0;34m\u001b[0m\u001b[0m\n\u001b[0m\u001b[1;32m   1353\u001b[0m         \u001b[0;32melif\u001b[0m \u001b[0misinstance\u001b[0m\u001b[0;34m(\u001b[0m\u001b[0mkey\u001b[0m\u001b[0;34m,\u001b[0m \u001b[0mtuple\u001b[0m\u001b[0;34m)\u001b[0m\u001b[0;34m:\u001b[0m\u001b[0;34m\u001b[0m\u001b[0;34m\u001b[0m\u001b[0m\n\u001b[1;32m   1354\u001b[0m             \u001b[0;31m# a tuple should already have been caught by this point\u001b[0m\u001b[0;34m\u001b[0m\u001b[0;34m\u001b[0m\u001b[0;34m\u001b[0m\u001b[0m\n",
            "\u001b[0;32m/usr/local/lib/python3.6/dist-packages/pandas/core/indexing.py\u001b[0m in \u001b[0;36m_validate_integer\u001b[0;34m(self, key, axis)\u001b[0m\n\u001b[1;32m   1435\u001b[0m         \u001b[0mlen_axis\u001b[0m \u001b[0;34m=\u001b[0m \u001b[0mlen\u001b[0m\u001b[0;34m(\u001b[0m\u001b[0mself\u001b[0m\u001b[0;34m.\u001b[0m\u001b[0mobj\u001b[0m\u001b[0;34m.\u001b[0m\u001b[0m_get_axis\u001b[0m\u001b[0;34m(\u001b[0m\u001b[0maxis\u001b[0m\u001b[0;34m)\u001b[0m\u001b[0;34m)\u001b[0m\u001b[0;34m\u001b[0m\u001b[0;34m\u001b[0m\u001b[0m\n\u001b[1;32m   1436\u001b[0m         \u001b[0;32mif\u001b[0m \u001b[0mkey\u001b[0m \u001b[0;34m>=\u001b[0m \u001b[0mlen_axis\u001b[0m \u001b[0;32mor\u001b[0m \u001b[0mkey\u001b[0m \u001b[0;34m<\u001b[0m \u001b[0;34m-\u001b[0m\u001b[0mlen_axis\u001b[0m\u001b[0;34m:\u001b[0m\u001b[0;34m\u001b[0m\u001b[0;34m\u001b[0m\u001b[0m\n\u001b[0;32m-> 1437\u001b[0;31m             \u001b[0;32mraise\u001b[0m \u001b[0mIndexError\u001b[0m\u001b[0;34m(\u001b[0m\u001b[0;34m\"single positional indexer is out-of-bounds\"\u001b[0m\u001b[0;34m)\u001b[0m\u001b[0;34m\u001b[0m\u001b[0;34m\u001b[0m\u001b[0m\n\u001b[0m\u001b[1;32m   1438\u001b[0m \u001b[0;34m\u001b[0m\u001b[0m\n\u001b[1;32m   1439\u001b[0m     \u001b[0;31m# -------------------------------------------------------------------\u001b[0m\u001b[0;34m\u001b[0m\u001b[0;34m\u001b[0m\u001b[0;34m\u001b[0m\u001b[0m\n",
            "\u001b[0;31mIndexError\u001b[0m: single positional indexer is out-of-bounds"
          ]
        }
      ]
    },
    {
      "cell_type": "code",
      "metadata": {
        "colab": {
          "base_uri": "https://localhost:8080/",
          "height": 1000
        },
        "id": "rwP-a0oOoeE6",
        "outputId": "7abfcd32-2530-45cd-9dfa-6e420a6b7eb2"
      },
      "source": [
        "# Feature Normalization\r\n",
        "# By looking at the values, note that house sizes are about 1000 times the number of bedrooms. When features differ by \r\n",
        "#orders of magnitude, first performing feature scaling can make gradient descent converge much more quickly.\r\n",
        "# Our task here is to:\r\n",
        "# Subtract the mean value of each feature from the dataset.\r\n",
        "# After subtracting the mean, additionally scale (divide) the feature values by their respective “standard deviations.”\r\n",
        "x = (x - np.mean(x))/np.std(x)\r\n",
        "x"
      ],
      "execution_count": null,
      "outputs": [
        {
          "output_type": "execute_result",
          "data": {
            "text/html": [
              "<div>\n",
              "<style scoped>\n",
              "    .dataframe tbody tr th:only-of-type {\n",
              "        vertical-align: middle;\n",
              "    }\n",
              "\n",
              "    .dataframe tbody tr th {\n",
              "        vertical-align: top;\n",
              "    }\n",
              "\n",
              "    .dataframe thead th {\n",
              "        text-align: right;\n",
              "    }\n",
              "</style>\n",
              "<table border=\"1\" class=\"dataframe\">\n",
              "  <thead>\n",
              "    <tr style=\"text-align: right;\">\n",
              "      <th></th>\n",
              "      <th>0</th>\n",
              "      <th>1</th>\n",
              "    </tr>\n",
              "  </thead>\n",
              "  <tbody>\n",
              "    <tr>\n",
              "      <th>0</th>\n",
              "      <td>0.131415</td>\n",
              "      <td>-0.226093</td>\n",
              "    </tr>\n",
              "    <tr>\n",
              "      <th>1</th>\n",
              "      <td>-0.509641</td>\n",
              "      <td>-0.226093</td>\n",
              "    </tr>\n",
              "    <tr>\n",
              "      <th>2</th>\n",
              "      <td>0.507909</td>\n",
              "      <td>-0.226093</td>\n",
              "    </tr>\n",
              "    <tr>\n",
              "      <th>3</th>\n",
              "      <td>-0.743677</td>\n",
              "      <td>-1.554392</td>\n",
              "    </tr>\n",
              "    <tr>\n",
              "      <th>4</th>\n",
              "      <td>1.271071</td>\n",
              "      <td>1.102205</td>\n",
              "    </tr>\n",
              "    <tr>\n",
              "      <th>5</th>\n",
              "      <td>-0.019945</td>\n",
              "      <td>1.102205</td>\n",
              "    </tr>\n",
              "    <tr>\n",
              "      <th>6</th>\n",
              "      <td>-0.593589</td>\n",
              "      <td>-0.226093</td>\n",
              "    </tr>\n",
              "    <tr>\n",
              "      <th>7</th>\n",
              "      <td>-0.729686</td>\n",
              "      <td>-0.226093</td>\n",
              "    </tr>\n",
              "    <tr>\n",
              "      <th>8</th>\n",
              "      <td>-0.789467</td>\n",
              "      <td>-0.226093</td>\n",
              "    </tr>\n",
              "    <tr>\n",
              "      <th>9</th>\n",
              "      <td>-0.644466</td>\n",
              "      <td>-0.226093</td>\n",
              "    </tr>\n",
              "    <tr>\n",
              "      <th>10</th>\n",
              "      <td>-0.077182</td>\n",
              "      <td>1.102205</td>\n",
              "    </tr>\n",
              "    <tr>\n",
              "      <th>11</th>\n",
              "      <td>-0.000866</td>\n",
              "      <td>-0.226093</td>\n",
              "    </tr>\n",
              "    <tr>\n",
              "      <th>12</th>\n",
              "      <td>-0.140779</td>\n",
              "      <td>-0.226093</td>\n",
              "    </tr>\n",
              "    <tr>\n",
              "      <th>13</th>\n",
              "      <td>3.150993</td>\n",
              "      <td>2.430504</td>\n",
              "    </tr>\n",
              "    <tr>\n",
              "      <th>14</th>\n",
              "      <td>-0.931924</td>\n",
              "      <td>-0.226093</td>\n",
              "    </tr>\n",
              "    <tr>\n",
              "      <th>15</th>\n",
              "      <td>0.380715</td>\n",
              "      <td>1.102205</td>\n",
              "    </tr>\n",
              "    <tr>\n",
              "      <th>16</th>\n",
              "      <td>-0.865783</td>\n",
              "      <td>-1.554392</td>\n",
              "    </tr>\n",
              "    <tr>\n",
              "      <th>17</th>\n",
              "      <td>-0.972626</td>\n",
              "      <td>-0.226093</td>\n",
              "    </tr>\n",
              "    <tr>\n",
              "      <th>18</th>\n",
              "      <td>0.773743</td>\n",
              "      <td>1.102205</td>\n",
              "    </tr>\n",
              "    <tr>\n",
              "      <th>19</th>\n",
              "      <td>1.310501</td>\n",
              "      <td>1.102205</td>\n",
              "    </tr>\n",
              "    <tr>\n",
              "      <th>20</th>\n",
              "      <td>-0.297227</td>\n",
              "      <td>-0.226093</td>\n",
              "    </tr>\n",
              "    <tr>\n",
              "      <th>21</th>\n",
              "      <td>-0.143323</td>\n",
              "      <td>-1.554392</td>\n",
              "    </tr>\n",
              "    <tr>\n",
              "      <th>22</th>\n",
              "      <td>-0.504553</td>\n",
              "      <td>-0.226093</td>\n",
              "    </tr>\n",
              "    <tr>\n",
              "      <th>23</th>\n",
              "      <td>-0.049200</td>\n",
              "      <td>1.102205</td>\n",
              "    </tr>\n",
              "    <tr>\n",
              "      <th>24</th>\n",
              "      <td>2.403094</td>\n",
              "      <td>-0.226093</td>\n",
              "    </tr>\n",
              "    <tr>\n",
              "      <th>25</th>\n",
              "      <td>-1.145609</td>\n",
              "      <td>-0.226093</td>\n",
              "    </tr>\n",
              "    <tr>\n",
              "      <th>26</th>\n",
              "      <td>-0.690256</td>\n",
              "      <td>-0.226093</td>\n",
              "    </tr>\n",
              "    <tr>\n",
              "      <th>27</th>\n",
              "      <td>0.668173</td>\n",
              "      <td>-0.226093</td>\n",
              "    </tr>\n",
              "    <tr>\n",
              "      <th>28</th>\n",
              "      <td>0.253521</td>\n",
              "      <td>-0.226093</td>\n",
              "    </tr>\n",
              "    <tr>\n",
              "      <th>29</th>\n",
              "      <td>0.809358</td>\n",
              "      <td>-0.226093</td>\n",
              "    </tr>\n",
              "    <tr>\n",
              "      <th>30</th>\n",
              "      <td>-0.205648</td>\n",
              "      <td>-1.554392</td>\n",
              "    </tr>\n",
              "    <tr>\n",
              "      <th>31</th>\n",
              "      <td>-1.272803</td>\n",
              "      <td>-2.882690</td>\n",
              "    </tr>\n",
              "    <tr>\n",
              "      <th>32</th>\n",
              "      <td>0.050011</td>\n",
              "      <td>1.102205</td>\n",
              "    </tr>\n",
              "    <tr>\n",
              "      <th>33</th>\n",
              "      <td>1.445326</td>\n",
              "      <td>-0.226093</td>\n",
              "    </tr>\n",
              "    <tr>\n",
              "      <th>34</th>\n",
              "      <td>-0.241262</td>\n",
              "      <td>1.102205</td>\n",
              "    </tr>\n",
              "    <tr>\n",
              "      <th>35</th>\n",
              "      <td>-0.716966</td>\n",
              "      <td>-0.226093</td>\n",
              "    </tr>\n",
              "    <tr>\n",
              "      <th>36</th>\n",
              "      <td>-0.968810</td>\n",
              "      <td>-0.226093</td>\n",
              "    </tr>\n",
              "    <tr>\n",
              "      <th>37</th>\n",
              "      <td>0.167030</td>\n",
              "      <td>1.102205</td>\n",
              "    </tr>\n",
              "    <tr>\n",
              "      <th>38</th>\n",
              "      <td>2.816474</td>\n",
              "      <td>1.102205</td>\n",
              "    </tr>\n",
              "    <tr>\n",
              "      <th>39</th>\n",
              "      <td>0.205188</td>\n",
              "      <td>1.102205</td>\n",
              "    </tr>\n",
              "    <tr>\n",
              "      <th>40</th>\n",
              "      <td>-0.428237</td>\n",
              "      <td>-1.554392</td>\n",
              "    </tr>\n",
              "    <tr>\n",
              "      <th>41</th>\n",
              "      <td>0.301855</td>\n",
              "      <td>-0.226093</td>\n",
              "    </tr>\n",
              "    <tr>\n",
              "      <th>42</th>\n",
              "      <td>0.720322</td>\n",
              "      <td>1.102205</td>\n",
              "    </tr>\n",
              "    <tr>\n",
              "      <th>43</th>\n",
              "      <td>-1.018415</td>\n",
              "      <td>-0.226093</td>\n",
              "    </tr>\n",
              "    <tr>\n",
              "      <th>44</th>\n",
              "      <td>-1.461049</td>\n",
              "      <td>-1.554392</td>\n",
              "    </tr>\n",
              "    <tr>\n",
              "      <th>45</th>\n",
              "      <td>-0.189113</td>\n",
              "      <td>1.102205</td>\n",
              "    </tr>\n",
              "    <tr>\n",
              "      <th>46</th>\n",
              "      <td>-1.014600</td>\n",
              "      <td>-0.226093</td>\n",
              "    </tr>\n",
              "  </tbody>\n",
              "</table>\n",
              "</div>"
            ],
            "text/plain": [
              "           0         1\n",
              "0   0.131415 -0.226093\n",
              "1  -0.509641 -0.226093\n",
              "2   0.507909 -0.226093\n",
              "3  -0.743677 -1.554392\n",
              "4   1.271071  1.102205\n",
              "5  -0.019945  1.102205\n",
              "6  -0.593589 -0.226093\n",
              "7  -0.729686 -0.226093\n",
              "8  -0.789467 -0.226093\n",
              "9  -0.644466 -0.226093\n",
              "10 -0.077182  1.102205\n",
              "11 -0.000866 -0.226093\n",
              "12 -0.140779 -0.226093\n",
              "13  3.150993  2.430504\n",
              "14 -0.931924 -0.226093\n",
              "15  0.380715  1.102205\n",
              "16 -0.865783 -1.554392\n",
              "17 -0.972626 -0.226093\n",
              "18  0.773743  1.102205\n",
              "19  1.310501  1.102205\n",
              "20 -0.297227 -0.226093\n",
              "21 -0.143323 -1.554392\n",
              "22 -0.504553 -0.226093\n",
              "23 -0.049200  1.102205\n",
              "24  2.403094 -0.226093\n",
              "25 -1.145609 -0.226093\n",
              "26 -0.690256 -0.226093\n",
              "27  0.668173 -0.226093\n",
              "28  0.253521 -0.226093\n",
              "29  0.809358 -0.226093\n",
              "30 -0.205648 -1.554392\n",
              "31 -1.272803 -2.882690\n",
              "32  0.050011  1.102205\n",
              "33  1.445326 -0.226093\n",
              "34 -0.241262  1.102205\n",
              "35 -0.716966 -0.226093\n",
              "36 -0.968810 -0.226093\n",
              "37  0.167030  1.102205\n",
              "38  2.816474  1.102205\n",
              "39  0.205188  1.102205\n",
              "40 -0.428237 -1.554392\n",
              "41  0.301855 -0.226093\n",
              "42  0.720322  1.102205\n",
              "43 -1.018415 -0.226093\n",
              "44 -1.461049 -1.554392\n",
              "45 -0.189113  1.102205\n",
              "46 -1.014600 -0.226093"
            ]
          },
          "metadata": {
            "tags": []
          },
          "execution_count": 63
        }
      ]
    },
    {
      "cell_type": "code",
      "metadata": {
        "colab": {
          "base_uri": "https://localhost:8080/",
          "height": 132
        },
        "id": "_Abh9BH1o6vs",
        "outputId": "9cc9b60a-bc33-4d30-acbf-653ceda92f97"
      },
      "source": [
        "# Adding the intercept term and initializing parameters\r\n",
        "#numpy.hstack. Stack arrays in sequence horizontally (column wise).\r\n",
        "X = np.hstack((np.ones(m,1),x)\r\n",
        "theta = np.zeros((3,1))                  \r\n",
        "X"
      ],
      "execution_count": null,
      "outputs": [
        {
          "output_type": "error",
          "ename": "SyntaxError",
          "evalue": "ignored",
          "traceback": [
            "\u001b[0;36m  File \u001b[0;32m\"<ipython-input-99-0f0b47b71245>\"\u001b[0;36m, line \u001b[0;32m4\u001b[0m\n\u001b[0;31m    theta = np.zeros((3,1))\u001b[0m\n\u001b[0m        ^\u001b[0m\n\u001b[0;31mSyntaxError\u001b[0m\u001b[0;31m:\u001b[0m invalid syntax\n"
          ]
        }
      ]
    },
    {
      "cell_type": "code",
      "metadata": {
        "colab": {
          "base_uri": "https://localhost:8080/",
          "height": 381
        },
        "id": "Q4lZ04wttNej",
        "outputId": "597c1666-ac3a-4f0d-84b3-e32e1d58f9b3"
      },
      "source": [
        "# Computing the cost\r\n",
        "def computeCost(X, y, theta):\r\n",
        "  for i in range(m):\r\n",
        "    error = np.dot(X,theta)-y[i]\r\n",
        "    J=sum(error[i]**2) / (2*m)\r\n",
        "  return error\r\n",
        "J = computeCost(X, y, theta)\r\n",
        "J"
      ],
      "execution_count": null,
      "outputs": [
        {
          "output_type": "error",
          "ename": "ValueError",
          "evalue": "ignored",
          "traceback": [
            "\u001b[0;31m---------------------------------------------------------------------------\u001b[0m",
            "\u001b[0;31mValueError\u001b[0m                                Traceback (most recent call last)",
            "\u001b[0;32m<ipython-input-71-09dab0212306>\u001b[0m in \u001b[0;36m<module>\u001b[0;34m()\u001b[0m\n\u001b[1;32m      5\u001b[0m     \u001b[0mJ\u001b[0m\u001b[0;34m=\u001b[0m\u001b[0msum\u001b[0m\u001b[0;34m(\u001b[0m\u001b[0merror\u001b[0m\u001b[0;34m[\u001b[0m\u001b[0mi\u001b[0m\u001b[0;34m]\u001b[0m\u001b[0;34m**\u001b[0m\u001b[0;36m2\u001b[0m\u001b[0;34m)\u001b[0m \u001b[0;34m/\u001b[0m \u001b[0;34m(\u001b[0m\u001b[0;36m2\u001b[0m\u001b[0;34m*\u001b[0m\u001b[0mm\u001b[0m\u001b[0;34m)\u001b[0m\u001b[0;34m\u001b[0m\u001b[0;34m\u001b[0m\u001b[0m\n\u001b[1;32m      6\u001b[0m   \u001b[0;32mreturn\u001b[0m \u001b[0merror\u001b[0m\u001b[0;34m\u001b[0m\u001b[0;34m\u001b[0m\u001b[0m\n\u001b[0;32m----> 7\u001b[0;31m \u001b[0mJ\u001b[0m \u001b[0;34m=\u001b[0m \u001b[0mcomputeCost\u001b[0m\u001b[0;34m(\u001b[0m\u001b[0mX\u001b[0m\u001b[0;34m,\u001b[0m \u001b[0my\u001b[0m\u001b[0;34m,\u001b[0m \u001b[0mtheta\u001b[0m\u001b[0;34m)\u001b[0m\u001b[0;34m\u001b[0m\u001b[0;34m\u001b[0m\u001b[0m\n\u001b[0m\u001b[1;32m      8\u001b[0m \u001b[0mJ\u001b[0m\u001b[0;34m\u001b[0m\u001b[0;34m\u001b[0m\u001b[0m\n",
            "\u001b[0;32m<ipython-input-71-09dab0212306>\u001b[0m in \u001b[0;36mcomputeCost\u001b[0;34m(X, y, theta)\u001b[0m\n\u001b[1;32m      2\u001b[0m \u001b[0;32mdef\u001b[0m \u001b[0mcomputeCost\u001b[0m\u001b[0;34m(\u001b[0m\u001b[0mX\u001b[0m\u001b[0;34m,\u001b[0m \u001b[0my\u001b[0m\u001b[0;34m,\u001b[0m \u001b[0mtheta\u001b[0m\u001b[0;34m)\u001b[0m\u001b[0;34m:\u001b[0m\u001b[0;34m\u001b[0m\u001b[0;34m\u001b[0m\u001b[0m\n\u001b[1;32m      3\u001b[0m   \u001b[0;32mfor\u001b[0m \u001b[0mi\u001b[0m \u001b[0;32min\u001b[0m \u001b[0mrange\u001b[0m\u001b[0;34m(\u001b[0m\u001b[0mm\u001b[0m\u001b[0;34m)\u001b[0m\u001b[0;34m:\u001b[0m\u001b[0;34m\u001b[0m\u001b[0;34m\u001b[0m\u001b[0m\n\u001b[0;32m----> 4\u001b[0;31m     \u001b[0merror\u001b[0m \u001b[0;34m=\u001b[0m \u001b[0mnp\u001b[0m\u001b[0;34m.\u001b[0m\u001b[0mdot\u001b[0m\u001b[0;34m(\u001b[0m\u001b[0mX\u001b[0m\u001b[0;34m,\u001b[0m\u001b[0mtheta\u001b[0m\u001b[0;34m)\u001b[0m\u001b[0;34m-\u001b[0m\u001b[0my\u001b[0m\u001b[0;34m[\u001b[0m\u001b[0mi\u001b[0m\u001b[0;34m]\u001b[0m\u001b[0;34m\u001b[0m\u001b[0;34m\u001b[0m\u001b[0m\n\u001b[0m\u001b[1;32m      5\u001b[0m     \u001b[0mJ\u001b[0m\u001b[0;34m=\u001b[0m\u001b[0msum\u001b[0m\u001b[0;34m(\u001b[0m\u001b[0merror\u001b[0m\u001b[0;34m[\u001b[0m\u001b[0mi\u001b[0m\u001b[0;34m]\u001b[0m\u001b[0;34m**\u001b[0m\u001b[0;36m2\u001b[0m\u001b[0;34m)\u001b[0m \u001b[0;34m/\u001b[0m \u001b[0;34m(\u001b[0m\u001b[0;36m2\u001b[0m\u001b[0;34m*\u001b[0m\u001b[0mm\u001b[0m\u001b[0;34m)\u001b[0m\u001b[0;34m\u001b[0m\u001b[0;34m\u001b[0m\u001b[0m\n\u001b[1;32m      6\u001b[0m   \u001b[0;32mreturn\u001b[0m \u001b[0merror\u001b[0m\u001b[0;34m\u001b[0m\u001b[0;34m\u001b[0m\u001b[0m\n",
            "\u001b[0;32m<__array_function__ internals>\u001b[0m in \u001b[0;36mdot\u001b[0;34m(*args, **kwargs)\u001b[0m\n",
            "\u001b[0;31mValueError\u001b[0m: shapes (2,97) and (2,1) not aligned: 97 (dim 1) != 2 (dim 0)"
          ]
        }
      ]
    },
    {
      "cell_type": "code",
      "metadata": {
        "colab": {
          "base_uri": "https://localhost:8080/",
          "height": 381
        },
        "id": "YAK9Gx0Q2Ujj",
        "outputId": "d4331dd2-6bd2-4e95-da9b-63bb11fedff5"
      },
      "source": [
        "iterations = 50\r\n",
        "alpha = 0.01\r\n",
        "\r\n",
        "# Finding the optimal parameters using Gradient Descent\r\n",
        "def gradientDescent(X, y, theta, alpha, iterations):\r\n",
        "    for j in range(iterations):\r\n",
        "      for i in range(m):\r\n",
        "        error = np.dot(X,theta)-y[i]\r\n",
        "        J=sum(error[i]**2) / (2*m)\r\n",
        "  \r\n",
        "      theta=theta-alpha*(2/m) * np.dot(x,error)\r\n",
        "      print(f\"Iteration: {j} slope: {theta[0]} and intercept: {theta[1]} and the cost is: {J}\"\")                                                                                        }\")\r\n",
        "\r\n",
        "    return theta\r\n",
        "\r\n",
        "A=gradientDescent(X, y, theta, alpha, iterations)\r\n",
        "A"
      ],
      "execution_count": null,
      "outputs": [
        {
          "output_type": "error",
          "ename": "ValueError",
          "evalue": "ignored",
          "traceback": [
            "\u001b[0;31m---------------------------------------------------------------------------\u001b[0m",
            "\u001b[0;31mValueError\u001b[0m                                Traceback (most recent call last)",
            "\u001b[0;32m<ipython-input-76-6c4b8c550b46>\u001b[0m in \u001b[0;36m<module>\u001b[0;34m()\u001b[0m\n\u001b[1;32m     14\u001b[0m     \u001b[0;32mreturn\u001b[0m \u001b[0mtheta\u001b[0m\u001b[0;34m\u001b[0m\u001b[0;34m\u001b[0m\u001b[0m\n\u001b[1;32m     15\u001b[0m \u001b[0;34m\u001b[0m\u001b[0m\n\u001b[0;32m---> 16\u001b[0;31m \u001b[0mA\u001b[0m\u001b[0;34m=\u001b[0m\u001b[0mgradientDescent\u001b[0m\u001b[0;34m(\u001b[0m\u001b[0mX\u001b[0m\u001b[0;34m,\u001b[0m \u001b[0my\u001b[0m\u001b[0;34m,\u001b[0m \u001b[0mtheta\u001b[0m\u001b[0;34m,\u001b[0m \u001b[0malpha\u001b[0m\u001b[0;34m,\u001b[0m \u001b[0miterations\u001b[0m\u001b[0;34m)\u001b[0m\u001b[0;34m\u001b[0m\u001b[0;34m\u001b[0m\u001b[0m\n\u001b[0m\u001b[1;32m     17\u001b[0m \u001b[0mA\u001b[0m\u001b[0;34m\u001b[0m\u001b[0;34m\u001b[0m\u001b[0m\n",
            "\u001b[0;32m<ipython-input-76-6c4b8c550b46>\u001b[0m in \u001b[0;36mgradientDescent\u001b[0;34m(X, y, theta, alpha, iterations)\u001b[0m\n\u001b[1;32m      6\u001b[0m     \u001b[0;32mfor\u001b[0m \u001b[0mj\u001b[0m \u001b[0;32min\u001b[0m \u001b[0mrange\u001b[0m\u001b[0;34m(\u001b[0m\u001b[0miterations\u001b[0m\u001b[0;34m)\u001b[0m\u001b[0;34m:\u001b[0m\u001b[0;34m\u001b[0m\u001b[0;34m\u001b[0m\u001b[0m\n\u001b[1;32m      7\u001b[0m       \u001b[0;32mfor\u001b[0m \u001b[0mi\u001b[0m \u001b[0;32min\u001b[0m \u001b[0mrange\u001b[0m\u001b[0;34m(\u001b[0m\u001b[0mm\u001b[0m\u001b[0;34m)\u001b[0m\u001b[0;34m:\u001b[0m\u001b[0;34m\u001b[0m\u001b[0;34m\u001b[0m\u001b[0m\n\u001b[0;32m----> 8\u001b[0;31m         \u001b[0merror\u001b[0m \u001b[0;34m=\u001b[0m \u001b[0mnp\u001b[0m\u001b[0;34m.\u001b[0m\u001b[0mdot\u001b[0m\u001b[0;34m(\u001b[0m\u001b[0mX\u001b[0m\u001b[0;34m,\u001b[0m\u001b[0mtheta\u001b[0m\u001b[0;34m)\u001b[0m\u001b[0;34m-\u001b[0m\u001b[0my\u001b[0m\u001b[0;34m[\u001b[0m\u001b[0mi\u001b[0m\u001b[0;34m]\u001b[0m\u001b[0;34m\u001b[0m\u001b[0;34m\u001b[0m\u001b[0m\n\u001b[0m\u001b[1;32m      9\u001b[0m         \u001b[0mJ\u001b[0m\u001b[0;34m=\u001b[0m\u001b[0msum\u001b[0m\u001b[0;34m(\u001b[0m\u001b[0merror\u001b[0m\u001b[0;34m[\u001b[0m\u001b[0mi\u001b[0m\u001b[0;34m]\u001b[0m\u001b[0;34m**\u001b[0m\u001b[0;36m2\u001b[0m\u001b[0;34m)\u001b[0m \u001b[0;34m/\u001b[0m \u001b[0;34m(\u001b[0m\u001b[0;36m2\u001b[0m\u001b[0;34m*\u001b[0m\u001b[0mm\u001b[0m\u001b[0;34m)\u001b[0m\u001b[0;34m\u001b[0m\u001b[0;34m\u001b[0m\u001b[0m\n\u001b[1;32m     10\u001b[0m \u001b[0;34m\u001b[0m\u001b[0m\n",
            "\u001b[0;32m<__array_function__ internals>\u001b[0m in \u001b[0;36mdot\u001b[0;34m(*args, **kwargs)\u001b[0m\n",
            "\u001b[0;31mValueError\u001b[0m: could not broadcast input array from shape (47,2) into shape (47)"
          ]
        }
      ]
    },
    {
      "cell_type": "code",
      "metadata": {
        "id": "Tirhd6OITduq"
      },
      "source": [
        "# ALTERNATE WAY\r\n",
        "\r\n"
      ],
      "execution_count": null,
      "outputs": []
    },
    {
      "cell_type": "markdown",
      "metadata": {
        "id": "PCkf4wp9PATK"
      },
      "source": [
        "## **3-Lasso Regression**\r\n",
        " \r\n",
        "It is also called as l1 regularization. Similar to ridge regression, lasso regression also works in a similar fashion the only difference is of the penalty term. In ridge, we multiply it by slope and take the square whereas in lasso we just multiply the alpha with absolute of slope. "
      ]
    },
    {
      "cell_type": "code",
      "metadata": {
        "id": "f1-GtGZ2PiyE"
      },
      "source": [
        "import numpy as np\r\n",
        "import pandas as pd\r\n",
        "import matplotlib.pyplot as plt"
      ],
      "execution_count": null,
      "outputs": []
    },
    {
      "cell_type": "code",
      "metadata": {
        "id": "-PNUFbcoP2kp"
      },
      "source": [
        "data = pd.read_csv('ex1data1.txt', header = None) #read from dataset\r\n",
        "x = data.iloc[:,0] # read first column\r\n",
        "y = data.iloc[:,1] # read second column\r\n",
        "m = len(y) # number of training example"
      ],
      "execution_count": null,
      "outputs": []
    },
    {
      "cell_type": "code",
      "metadata": {
        "colab": {
          "base_uri": "https://localhost:8080/",
          "height": 280
        },
        "id": "L9Oaayg-QiGa",
        "outputId": "d8d25449-836c-4a06-97d0-3fd3edca58c9"
      },
      "source": [
        "data.head() # view first few rows of the data\r\n",
        "plt.scatter(x, y)\r\n",
        "plt.xlabel('Population of City in 10,000s')\r\n",
        "plt.ylabel('Profit in $10,000s')\r\n",
        "plt.show()"
      ],
      "execution_count": null,
      "outputs": [
        {
          "output_type": "display_data",
          "data": {
            "image/png": "[encoded data removed]",
            "text/plain": [
              "<Figure size 432x288 with 1 Axes>"
            ]
          },
          "metadata": {
            "tags": [],
            "needs_background": "light"
          }
        }
      ]
    },
    {
      "cell_type": "code",
      "metadata": {
        "colab": {
          "base_uri": "https://localhost:8080/"
        },
        "id": "b0BHH0qCQv1J",
        "outputId": "2bfabb3c-31bb-4782-a332-a1bf5f8c6751"
      },
      "source": [
        "X = [x,np.ones(m,dtype=int)]\r\n",
        "theta = np.zeros([2,1])\r\n",
        "X"
      ],
      "execution_count": null,
      "outputs": [
        {
          "output_type": "execute_result",
          "data": {
            "text/plain": [
              "[0      6.1101\n",
              " 1      5.5277\n",
              " 2      8.5186\n",
              " 3      7.0032\n",
              " 4      5.8598\n",
              "        ...   \n",
              " 92     5.8707\n",
              " 93     5.3054\n",
              " 94     8.2934\n",
              " 95    13.3940\n",
              " 96     5.4369\n",
              " Name: 0, Length: 97, dtype: float64,\n",
              " array([1, 1, 1, 1, 1, 1, 1, 1, 1, 1, 1, 1, 1, 1, 1, 1, 1, 1, 1, 1, 1, 1,\n",
              "        1, 1, 1, 1, 1, 1, 1, 1, 1, 1, 1, 1, 1, 1, 1, 1, 1, 1, 1, 1, 1, 1,\n",
              "        1, 1, 1, 1, 1, 1, 1, 1, 1, 1, 1, 1, 1, 1, 1, 1, 1, 1, 1, 1, 1, 1,\n",
              "        1, 1, 1, 1, 1, 1, 1, 1, 1, 1, 1, 1, 1, 1, 1, 1, 1, 1, 1, 1, 1, 1,\n",
              "        1, 1, 1, 1, 1, 1, 1, 1, 1])]"
            ]
          },
          "metadata": {
            "tags": []
          },
          "execution_count": 77
        }
      ]
    },
    {
      "cell_type": "code",
      "metadata": {
        "colab": {
          "base_uri": "https://localhost:8080/"
        },
        "id": "NMZHuvaTQ-mu",
        "outputId": "7437aa9a-a3eb-4396-b16e-aa45f06269b1"
      },
      "source": [
        "def computeCost(X, y, theta,lam=10):\r\n",
        "  for i in range(m):\r\n",
        "    error = np.dot(np.transpose(X),theta)-y[i]\r\n",
        "    J=sum(error[i]**2) / (2*m)+lam*np.linalg.norm(theta)\r\n",
        "  return J\r\n",
        "J = computeCost(X, y, theta)\r\n",
        "J"
      ],
      "execution_count": null,
      "outputs": [
        {
          "output_type": "execute_result",
          "data": {
            "text/plain": [
              "0.001962632487113402"
            ]
          },
          "metadata": {
            "tags": []
          },
          "execution_count": 88
        }
      ]
    },
    {
      "cell_type": "code",
      "metadata": {
        "colab": {
          "base_uri": "https://localhost:8080/"
        },
        "id": "AC23MIApT-Ha",
        "outputId": "558118aa-5a0d-452b-db43-9a8039d0380e"
      },
      "source": [
        "iterations = 50\r\n",
        "alpha = 0.01\r\n",
        "\r\n",
        "# Finding the optimal parameters using Gradient Descent\r\n",
        "def gradientDescent(X, y, theta, alpha, iterations):\r\n",
        "    for j in range(iterations):\r\n",
        "      for i in range(m):\r\n",
        "        error = np.dot(np.transpose(X),theta)-y[i]\r\n",
        "        J=sum(error[i]**2) / (2*m)\r\n",
        "  \r\n",
        "      theta=theta-alpha*(2/m) * np.dot(x,error)\r\n",
        "      print(f\"Iteration: {j} slope: {theta[0]} and intercept: {theta[1]} and the cost is: {J}\"\")                                                                                        }\")\r\n",
        "\r\n",
        "    return theta\r\n",
        "\r\n",
        "A=gradientDescent(X, y, theta, alpha, iterations)\r\n",
        "A"
      ],
      "execution_count": null,
      "outputs": [
        {
          "output_type": "stream",
          "text": [
            "Iteration: 0 slope: [0.10070009] and intercept: [0.10070009] and the cost is: 0.001962632487113402)                                                                                        }\n",
            "Iteration: 1 slope: [0.02101864] and intercept: [0.02101864] and the cost is: 5.0005130687740104e-06)                                                                                        }\n",
            "Iteration: 2 slope: [0.08406857] and intercept: [0.08406857] and the cost is: 0.001196329819792385)                                                                                        }\n",
            "Iteration: 3 slope: [0.03417875] and intercept: [0.03417875] and the cost is: 2.9701958806613463e-05)                                                                                        }\n",
            "Iteration: 4 slope: [0.07365531] and intercept: [0.07365531] and the cost is: 0.0008126010023322157)                                                                                        }\n",
            "Iteration: 5 slope: [0.0424185] and intercept: [0.0424185] and the cost is: 0.00010531604197740997)                                                                                        }\n",
            "Iteration: 6 slope: [0.0671354] and intercept: [0.0671354] and the cost is: 0.000610001980270081)                                                                                        }\n",
            "Iteration: 7 slope: [0.04757754] and intercept: [0.04757754] and the cost is: 0.00017623855301047262)                                                                                        }\n",
            "Iteration: 8 slope: [0.06305318] and intercept: [0.06305318] and the cost is: 0.0004979149058222705)                                                                                        }\n",
            "Iteration: 9 slope: [0.05080769] and intercept: [0.05080769] and the cost is: 0.00022988786059442476)                                                                                        }\n",
            "Iteration: 10 slope: [0.06049724] and intercept: [0.06049724] and the cost is: 0.0004335229688336933)                                                                                        }\n",
            "Iteration: 11 slope: [0.05283015] and intercept: [0.05283015] and the cost is: 0.0002671022298023237)                                                                                        }\n",
            "Iteration: 12 slope: [0.05889693] and intercept: [0.05889693] and the cost is: 0.00039547500001167545)                                                                                        }\n",
            "Iteration: 13 slope: [0.05409644] and intercept: [0.05409644] and the cost is: 0.000291823298977113)                                                                                        }\n",
            "Iteration: 14 slope: [0.05789494] and intercept: [0.05789494] and the cost is: 0.0003725419976329247)                                                                                        }\n",
            "Iteration: 15 slope: [0.05488928] and intercept: [0.05488928] and the cost is: 0.00030785844331125727)                                                                                        }\n",
            "Iteration: 16 slope: [0.05726759] and intercept: [0.05726759] and the cost is: 0.0003585319578632002)                                                                                        }\n",
            "Iteration: 17 slope: [0.05538569] and intercept: [0.05538569] and the cost is: 0.00031811661471294435)                                                                                        }\n",
            "Iteration: 18 slope: [0.05687479] and intercept: [0.05687479] and the cost is: 0.0003498967382155692)                                                                                        }\n",
            "Iteration: 19 slope: [0.0556965] and intercept: [0.0556965] and the cost is: 0.0003246250020661506)                                                                                        }\n",
            "Iteration: 20 slope: [0.05662885] and intercept: [0.05662885] and the cost is: 0.00034454367487838207)                                                                                        }\n",
            "Iteration: 21 slope: [0.05589111] and intercept: [0.05589111] and the cost is: 0.0003287335572632351)                                                                                        }\n",
            "Iteration: 22 slope: [0.05647486] and intercept: [0.05647486] and the cost is: 0.0003412130432577633)                                                                                        }\n",
            "Iteration: 23 slope: [0.05601295] and intercept: [0.05601295] and the cost is: 0.00033131914145786664)                                                                                        }\n",
            "Iteration: 24 slope: [0.05637845] and intercept: [0.05637845] and the cost is: 0.0003391359168164106)                                                                                        }\n",
            "Iteration: 25 slope: [0.05608924] and intercept: [0.05608924] and the cost is: 0.0003329431728733527)                                                                                        }\n",
            "Iteration: 26 slope: [0.05631809] and intercept: [0.05631809] and the cost is: 0.00033783862320984113)                                                                                        }\n",
            "Iteration: 27 slope: [0.05613701] and intercept: [0.05613701] and the cost is: 0.0003339620260404717)                                                                                        }\n",
            "Iteration: 28 slope: [0.05628029] and intercept: [0.05628029] and the cost is: 0.00033702763261232233)                                                                                        }\n",
            "Iteration: 29 slope: [0.05616691] and intercept: [0.05616691] and the cost is: 0.0003346007385903661)                                                                                        }\n",
            "Iteration: 30 slope: [0.05625663] and intercept: [0.05625663] and the cost is: 0.00033652035462982115)                                                                                        }\n",
            "Iteration: 31 slope: [0.05618564] and intercept: [0.05618564] and the cost is: 0.00033500095730356434)                                                                                        }\n",
            "Iteration: 32 slope: [0.05624181] and intercept: [0.05624181] and the cost is: 0.0003362029343111706)                                                                                        }\n",
            "Iteration: 33 slope: [0.05619736] and intercept: [0.05619736] and the cost is: 0.0003352516623767316)                                                                                        }\n",
            "Iteration: 34 slope: [0.05623253] and intercept: [0.05623253] and the cost is: 0.00033600426864780305)                                                                                        }\n",
            "Iteration: 35 slope: [0.0562047] and intercept: [0.0562047] and the cost is: 0.0003354086805468331)                                                                                        }\n",
            "Iteration: 36 slope: [0.05622672] and intercept: [0.05622672] and the cost is: 0.0003358799108069986)                                                                                        }\n",
            "Iteration: 37 slope: [0.0562093] and intercept: [0.0562093] and the cost is: 0.0003355070108337703)                                                                                        }\n",
            "Iteration: 38 slope: [0.05622309] and intercept: [0.05622309] and the cost is: 0.00033580206010309265)                                                                                        }\n",
            "Iteration: 39 slope: [0.05621218] and intercept: [0.05621218] and the cost is: 0.00033556858432611756)                                                                                        }\n",
            "Iteration: 40 slope: [0.05622081] and intercept: [0.05622081] and the cost is: 0.00033575332113310817)                                                                                        }\n",
            "Iteration: 41 slope: [0.05621398] and intercept: [0.05621398] and the cost is: 0.00033560713934462154)                                                                                        }\n",
            "Iteration: 42 slope: [0.05621938] and intercept: [0.05621938] and the cost is: 0.00033572280668985114)                                                                                        }\n",
            "Iteration: 43 slope: [0.05621511] and intercept: [0.05621511] and the cost is: 0.00033563128038213323)                                                                                        }\n",
            "Iteration: 44 slope: [0.05621849] and intercept: [0.05621849] and the cost is: 0.0003357037018177179)                                                                                        }\n",
            "Iteration: 45 slope: [0.05621581] and intercept: [0.05621581] and the cost is: 0.00033564639591151277)                                                                                        }\n",
            "Iteration: 46 slope: [0.05621793] and intercept: [0.05621793] and the cost is: 0.00033569174023027394)                                                                                        }\n",
            "Iteration: 47 slope: [0.05621626] and intercept: [0.05621626] and the cost is: 0.00033565586015803965)                                                                                        }\n",
            "Iteration: 48 slope: [0.05621758] and intercept: [0.05621758] and the cost is: 0.00033568425099869095)                                                                                        }\n",
            "Iteration: 49 slope: [0.05621653] and intercept: [0.05621653] and the cost is: 0.000335661785941182)                                                                                        }\n"
          ],
          "name": "stdout"
        },
        {
          "output_type": "execute_result",
          "data": {
            "text/plain": [
              "array([[0.05621653],\n",
              "       [0.05621653]])"
            ]
          },
          "metadata": {
            "tags": []
          },
          "execution_count": 89
        }
      ]
    },
    {
      "cell_type": "markdown",
      "metadata": {
        "id": "X15nFSiCVNMo"
      },
      "source": [
        "##**4-Ridge Regression**\r\n",
        "\r\n",
        "It is also called an L2 regularization that is used to get rid of overfitting. The goal while building a machine learning model is to develop a model that can generalize patterns well in training as well as in testing. "
      ]
    },
    {
      "cell_type": "code",
      "metadata": {
        "id": "qBgeFvISVzSA"
      },
      "source": [
        "import numpy as np\r\n",
        "import pandas as pd\r\n",
        "import matplotlib.pyplot as plt"
      ],
      "execution_count": null,
      "outputs": []
    },
    {
      "cell_type": "code",
      "metadata": {
        "id": "P4XxoGwpWGDV"
      },
      "source": [
        "data = pd.read_csv('ex1data1.txt', header = None) #read from dataset\r\n",
        "x = data.iloc[:,0] # read first column\r\n",
        "y = data.iloc[:,1] # read second column\r\n",
        "m = len(y) # number of training example"
      ],
      "execution_count": null,
      "outputs": []
    },
    {
      "cell_type": "code",
      "metadata": {
        "colab": {
          "base_uri": "https://localhost:8080/",
          "height": 280
        },
        "id": "FjZTSqPgWSWA",
        "outputId": "80475755-810f-4ef5-a1a7-62d157436e24"
      },
      "source": [
        "data.head() # view first few rows of the data\r\n",
        "plt.scatter(x, y)\r\n",
        "plt.xlabel('Population of City in 10,000s')\r\n",
        "plt.ylabel('Profit in $10,000s')\r\n",
        "plt.show()"
      ],
      "execution_count": null,
      "outputs": [
        {
          "output_type": "display_data",
          "data": {
            "image/png": "[encoded data removed]",
            "text/plain": [
              "<Figure size 432x288 with 1 Axes>"
            ]
          },
          "metadata": {
            "tags": [],
            "needs_background": "light"
          }
        }
      ]
    },
    {
      "cell_type": "code",
      "metadata": {
        "colab": {
          "base_uri": "https://localhost:8080/"
        },
        "id": "FQuPSkqlWdhB",
        "outputId": "7232be8f-2af8-48d3-f8b7-71f172147b07"
      },
      "source": [
        "X = [x,np.ones(m,dtype=int)]\r\n",
        "theta = np.zeros([2,1])\r\n",
        "X"
      ],
      "execution_count": null,
      "outputs": [
        {
          "output_type": "execute_result",
          "data": {
            "text/plain": [
              "[0      6.1101\n",
              " 1      5.5277\n",
              " 2      8.5186\n",
              " 3      7.0032\n",
              " 4      5.8598\n",
              "        ...   \n",
              " 92     5.8707\n",
              " 93     5.3054\n",
              " 94     8.2934\n",
              " 95    13.3940\n",
              " 96     5.4369\n",
              " Name: 0, Length: 97, dtype: float64,\n",
              " array([1, 1, 1, 1, 1, 1, 1, 1, 1, 1, 1, 1, 1, 1, 1, 1, 1, 1, 1, 1, 1, 1,\n",
              "        1, 1, 1, 1, 1, 1, 1, 1, 1, 1, 1, 1, 1, 1, 1, 1, 1, 1, 1, 1, 1, 1,\n",
              "        1, 1, 1, 1, 1, 1, 1, 1, 1, 1, 1, 1, 1, 1, 1, 1, 1, 1, 1, 1, 1, 1,\n",
              "        1, 1, 1, 1, 1, 1, 1, 1, 1, 1, 1, 1, 1, 1, 1, 1, 1, 1, 1, 1, 1, 1,\n",
              "        1, 1, 1, 1, 1, 1, 1, 1, 1])]"
            ]
          },
          "metadata": {
            "tags": []
          },
          "execution_count": 93
        }
      ]
    },
    {
      "cell_type": "code",
      "metadata": {
        "colab": {
          "base_uri": "https://localhost:8080/"
        },
        "id": "UyiUW_UWWkQv",
        "outputId": "1c88a8d3-b945-4eb5-a7ea-9305280405fd"
      },
      "source": [
        "def computeCost(X, y, theta,lam=10):\r\n",
        "  for i in range(m):\r\n",
        "    error = np.dot(np.transpose(X),theta)-y[i]\r\n",
        "    J=sum(error[i]**2) / (2*m)+lam*(np.linalg.norm(theta)**2)\r\n",
        "  return J\r\n",
        "J = computeCost(X, y, theta)\r\n",
        "J"
      ],
      "execution_count": null,
      "outputs": [
        {
          "output_type": "execute_result",
          "data": {
            "text/plain": [
              "0.001962632487113402"
            ]
          },
          "metadata": {
            "tags": []
          },
          "execution_count": 95
        }
      ]
    },
    {
      "cell_type": "code",
      "metadata": {
        "colab": {
          "base_uri": "https://localhost:8080/"
        },
        "id": "OQMSBagQXOAb",
        "outputId": "ae6ae084-eb7e-4779-820c-677c61960c40"
      },
      "source": [
        "iterations = 50\r\n",
        "alpha = 0.01\r\n",
        "\r\n",
        "# Finding the optimal parameters using Gradient Descent\r\n",
        "def gradientDescent(X, y, theta, alpha, iterations):\r\n",
        "    for j in range(iterations):\r\n",
        "      for i in range(m):\r\n",
        "        error = np.dot(np.transpose(X),theta)-y[i]\r\n",
        "        J=sum(error[i]**2) / (2*m)\r\n",
        "  \r\n",
        "      theta=theta-alpha*(2/m) * np.dot(x,error)\r\n",
        "      print(f\"Iteration: {j} slope: {theta[0]} and intercept: {theta[1]} and the cost is: {J}\"\")                                                                                        }\")\r\n",
        "\r\n",
        "    return theta\r\n",
        "\r\n",
        "A=gradientDescent(X, y, theta, alpha, iterations)\r\n",
        "A"
      ],
      "execution_count": null,
      "outputs": [
        {
          "output_type": "stream",
          "text": [
            "Iteration: 0 slope: [0.10070009] and intercept: [0.10070009] and the cost is: 0.001962632487113402)                                                                                        }\n",
            "Iteration: 1 slope: [0.02101864] and intercept: [0.02101864] and the cost is: 5.0005130687740104e-06)                                                                                        }\n",
            "Iteration: 2 slope: [0.08406857] and intercept: [0.08406857] and the cost is: 0.001196329819792385)                                                                                        }\n",
            "Iteration: 3 slope: [0.03417875] and intercept: [0.03417875] and the cost is: 2.9701958806613463e-05)                                                                                        }\n",
            "Iteration: 4 slope: [0.07365531] and intercept: [0.07365531] and the cost is: 0.0008126010023322157)                                                                                        }\n",
            "Iteration: 5 slope: [0.0424185] and intercept: [0.0424185] and the cost is: 0.00010531604197740997)                                                                                        }\n",
            "Iteration: 6 slope: [0.0671354] and intercept: [0.0671354] and the cost is: 0.000610001980270081)                                                                                        }\n",
            "Iteration: 7 slope: [0.04757754] and intercept: [0.04757754] and the cost is: 0.00017623855301047262)                                                                                        }\n",
            "Iteration: 8 slope: [0.06305318] and intercept: [0.06305318] and the cost is: 0.0004979149058222705)                                                                                        }\n",
            "Iteration: 9 slope: [0.05080769] and intercept: [0.05080769] and the cost is: 0.00022988786059442476)                                                                                        }\n",
            "Iteration: 10 slope: [0.06049724] and intercept: [0.06049724] and the cost is: 0.0004335229688336933)                                                                                        }\n",
            "Iteration: 11 slope: [0.05283015] and intercept: [0.05283015] and the cost is: 0.0002671022298023237)                                                                                        }\n",
            "Iteration: 12 slope: [0.05889693] and intercept: [0.05889693] and the cost is: 0.00039547500001167545)                                                                                        }\n",
            "Iteration: 13 slope: [0.05409644] and intercept: [0.05409644] and the cost is: 0.000291823298977113)                                                                                        }\n",
            "Iteration: 14 slope: [0.05789494] and intercept: [0.05789494] and the cost is: 0.0003725419976329247)                                                                                        }\n",
            "Iteration: 15 slope: [0.05488928] and intercept: [0.05488928] and the cost is: 0.00030785844331125727)                                                                                        }\n",
            "Iteration: 16 slope: [0.05726759] and intercept: [0.05726759] and the cost is: 0.0003585319578632002)                                                                                        }\n",
            "Iteration: 17 slope: [0.05538569] and intercept: [0.05538569] and the cost is: 0.00031811661471294435)                                                                                        }\n",
            "Iteration: 18 slope: [0.05687479] and intercept: [0.05687479] and the cost is: 0.0003498967382155692)                                                                                        }\n",
            "Iteration: 19 slope: [0.0556965] and intercept: [0.0556965] and the cost is: 0.0003246250020661506)                                                                                        }\n",
            "Iteration: 20 slope: [0.05662885] and intercept: [0.05662885] and the cost is: 0.00034454367487838207)                                                                                        }\n",
            "Iteration: 21 slope: [0.05589111] and intercept: [0.05589111] and the cost is: 0.0003287335572632351)                                                                                        }\n",
            "Iteration: 22 slope: [0.05647486] and intercept: [0.05647486] and the cost is: 0.0003412130432577633)                                                                                        }\n",
            "Iteration: 23 slope: [0.05601295] and intercept: [0.05601295] and the cost is: 0.00033131914145786664)                                                                                        }\n",
            "Iteration: 24 slope: [0.05637845] and intercept: [0.05637845] and the cost is: 0.0003391359168164106)                                                                                        }\n",
            "Iteration: 25 slope: [0.05608924] and intercept: [0.05608924] and the cost is: 0.0003329431728733527)                                                                                        }\n",
            "Iteration: 26 slope: [0.05631809] and intercept: [0.05631809] and the cost is: 0.00033783862320984113)                                                                                        }\n",
            "Iteration: 27 slope: [0.05613701] and intercept: [0.05613701] and the cost is: 0.0003339620260404717)                                                                                        }\n",
            "Iteration: 28 slope: [0.05628029] and intercept: [0.05628029] and the cost is: 0.00033702763261232233)                                                                                        }\n",
            "Iteration: 29 slope: [0.05616691] and intercept: [0.05616691] and the cost is: 0.0003346007385903661)                                                                                        }\n",
            "Iteration: 30 slope: [0.05625663] and intercept: [0.05625663] and the cost is: 0.00033652035462982115)                                                                                        }\n",
            "Iteration: 31 slope: [0.05618564] and intercept: [0.05618564] and the cost is: 0.00033500095730356434)                                                                                        }\n",
            "Iteration: 32 slope: [0.05624181] and intercept: [0.05624181] and the cost is: 0.0003362029343111706)                                                                                        }\n",
            "Iteration: 33 slope: [0.05619736] and intercept: [0.05619736] and the cost is: 0.0003352516623767316)                                                                                        }\n",
            "Iteration: 34 slope: [0.05623253] and intercept: [0.05623253] and the cost is: 0.00033600426864780305)                                                                                        }\n",
            "Iteration: 35 slope: [0.0562047] and intercept: [0.0562047] and the cost is: 0.0003354086805468331)                                                                                        }\n",
            "Iteration: 36 slope: [0.05622672] and intercept: [0.05622672] and the cost is: 0.0003358799108069986)                                                                                        }\n",
            "Iteration: 37 slope: [0.0562093] and intercept: [0.0562093] and the cost is: 0.0003355070108337703)                                                                                        }\n",
            "Iteration: 38 slope: [0.05622309] and intercept: [0.05622309] and the cost is: 0.00033580206010309265)                                                                                        }\n",
            "Iteration: 39 slope: [0.05621218] and intercept: [0.05621218] and the cost is: 0.00033556858432611756)                                                                                        }\n",
            "Iteration: 40 slope: [0.05622081] and intercept: [0.05622081] and the cost is: 0.00033575332113310817)                                                                                        }\n",
            "Iteration: 41 slope: [0.05621398] and intercept: [0.05621398] and the cost is: 0.00033560713934462154)                                                                                        }\n",
            "Iteration: 42 slope: [0.05621938] and intercept: [0.05621938] and the cost is: 0.00033572280668985114)                                                                                        }\n",
            "Iteration: 43 slope: [0.05621511] and intercept: [0.05621511] and the cost is: 0.00033563128038213323)                                                                                        }\n",
            "Iteration: 44 slope: [0.05621849] and intercept: [0.05621849] and the cost is: 0.0003357037018177179)                                                                                        }\n",
            "Iteration: 45 slope: [0.05621581] and intercept: [0.05621581] and the cost is: 0.00033564639591151277)                                                                                        }\n",
            "Iteration: 46 slope: [0.05621793] and intercept: [0.05621793] and the cost is: 0.00033569174023027394)                                                                                        }\n",
            "Iteration: 47 slope: [0.05621626] and intercept: [0.05621626] and the cost is: 0.00033565586015803965)                                                                                        }\n",
            "Iteration: 48 slope: [0.05621758] and intercept: [0.05621758] and the cost is: 0.00033568425099869095)                                                                                        }\n",
            "Iteration: 49 slope: [0.05621653] and intercept: [0.05621653] and the cost is: 0.000335661785941182)                                                                                        }\n"
          ],
          "name": "stdout"
        },
        {
          "output_type": "execute_result",
          "data": {
            "text/plain": [
              "array([[0.05621653],\n",
              "       [0.05621653]])"
            ]
          },
          "metadata": {
            "tags": []
          },
          "execution_count": 96
        }
      ]
    }
  ]
}